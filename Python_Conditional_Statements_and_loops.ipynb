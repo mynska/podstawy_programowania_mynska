{
  "nbformat": 4,
  "nbformat_minor": 0,
  "metadata": {
    "colab": {
      "provenance": [],
      "authorship_tag": "ABX9TyM8uHz1BTGrD/9Meg1BmDFV",
      "include_colab_link": true
    },
    "kernelspec": {
      "name": "python3",
      "display_name": "Python 3"
    },
    "language_info": {
      "name": "python"
    }
  },
  "cells": [
    {
      "cell_type": "markdown",
      "metadata": {
        "id": "view-in-github",
        "colab_type": "text"
      },
      "source": [
        "<a href=\"https://colab.research.google.com/github/mynska/podstawy_programowania_mynska/blob/Python/Python_Conditional_Statements_and_loops.ipynb\" target=\"_parent\"><img src=\"https://colab.research.google.com/assets/colab-badge.svg\" alt=\"Open In Colab\"/></a>"
      ]
    },
    {
      "cell_type": "markdown",
      "source": [
        "# Python Conditional Statements and loops"
      ],
      "metadata": {
        "id": "DJ667aqpOEJ6"
      }
    },
    {
      "cell_type": "code",
      "source": [
        "\"\"\"\n",
        "Write a Python program to find those numbers which are divisible by 7 and multiples of 5, between 1500 and 2700 (both included).\n",
        "\"\"\"\n",
        "# Tworzymy pustą listę na liczby.\n",
        "listOfNumbers = []\n",
        "\"\"\"\n",
        "Dla każdej wartości z zakresu, jeżeli jest podzielna przez 7 i jest wielokrotnością 5,\n",
        "dodajemy taką liczbę do stworzonej listy.\n",
        "\"\"\"\n",
        "for i in range(1500, 2701):\n",
        "    if (i % 7 == 0) and (i % 5 == 0):\n",
        "        listOfNumbers.append(str(i))\n",
        "print(','.join(listOfNumbers))"
      ],
      "metadata": {
        "colab": {
          "base_uri": "https://localhost:8080/"
        },
        "id": "pvRfpr3-OG6s",
        "outputId": "95061017-8d5e-4991-83cb-a71e5e513ecb"
      },
      "execution_count": null,
      "outputs": [
        {
          "output_type": "stream",
          "name": "stdout",
          "text": [
            "1505,1540,1575,1610,1645,1680,1715,1750,1785,1820,1855,1890,1925,1960,1995,2030,2065,2100,2135,2170,2205,2240,2275,2310,2345,2380,2415,2450,2485,2520,2555,2590,2625,2660,2695\n"
          ]
        }
      ]
    },
    {
      "cell_type": "code",
      "source": [
        "\"\"\"\n",
        "Write a Python program that accepts a word from the user and reverses it.\n",
        "\"\"\"\n",
        "# Tworzymy funkcję przyjmującą jako argument słowo od użytownika.\n",
        "def reverseWord(word):\n",
        "    # Zwracamy odwrócone słowo.\n",
        "    return word[::-1]\n",
        "# Prosimy użytkownika o podanie słowa.\n",
        "userInput = input(\"Enter a word: \")\n",
        "print(reverseWord(userInput))"
      ],
      "metadata": {
        "colab": {
          "base_uri": "https://localhost:8080/"
        },
        "id": "T0ZE1LmrPJQb",
        "outputId": "d26e9530-4ddc-4f46-bdec-13a95d414991"
      },
      "execution_count": null,
      "outputs": [
        {
          "output_type": "stream",
          "name": "stdout",
          "text": [
            "Enter a word: Magda\n",
            "adgaM\n"
          ]
        }
      ]
    },
    {
      "cell_type": "code",
      "source": [
        "\"\"\"\n",
        "Write a Python program to count the number of even and odd numbers in a series of numbers\n",
        "Sample numbers : numbers = (1, 2, 3, 4, 5, 6, 7, 8, 9)\n",
        "Expected Output :\n",
        "Number of even numbers : 5\n",
        "Number of odd numbers : 4\n",
        "\"\"\"\n",
        "# Tworzymy listę numerów od 1 do 9.\n",
        "from1To9 = (1, 2, 3, 4, 5, 6, 7, 8, 9)\n",
        "# Tworzymy zmienne, które przechowają ilość liczb parzystych i nieparzystych.\n",
        "countOdd = 0\n",
        "countEven = 0\n",
        "\"\"\"\n",
        "Jeżeli reszta z dzielenia liczy jest równa 0 to zwiększamy wartość\n",
        "countEven o 1. W przeciwnym razie zwiększamy wartość countOdd o 1.\n",
        "\"\"\"\n",
        "for i in from1To9:\n",
        "    if not i % 2:\n",
        "        countEven += 1\n",
        "    else:\n",
        "        countOdd += 1\n",
        "print(\"Number of even numbers:\", countEven)\n",
        "print(\"Number of odd numbers:\", countOdd)"
      ],
      "metadata": {
        "colab": {
          "base_uri": "https://localhost:8080/"
        },
        "id": "lbUubXg9Q_TH",
        "outputId": "617fe00f-fd90-4bc6-931c-2f289ae76c22"
      },
      "execution_count": null,
      "outputs": [
        {
          "output_type": "stream",
          "name": "stdout",
          "text": [
            "Number of even numbers: 4\n",
            "Number of odd numbers: 5\n"
          ]
        }
      ]
    },
    {
      "cell_type": "code",
      "source": [
        "\"\"\"\n",
        "Write a Python program that prints all the numbers from 0 to 6 except 3 and 6.\n",
        "Note : Use 'continue' statement.\n",
        "Expected Output : 0 1 2 4 5\n",
        "\"\"\"\n",
        "\"\"\"\n",
        "Dla każdej liczby z zakresu 7, jeżeli liczba jest 3 lub 6,\n",
        "to przechodzimy do następnej części pętli.\n",
        "\"\"\"\n",
        "for i in range(6):\n",
        "    if (i == 3 or i == 6):\n",
        "        continue\n",
        "    print(i, end=' ')"
      ],
      "metadata": {
        "colab": {
          "base_uri": "https://localhost:8080/"
        },
        "id": "U1RVdW9jSiiZ",
        "outputId": "a33c06f3-45f4-411d-cca7-2affe05bc631"
      },
      "execution_count": null,
      "outputs": [
        {
          "output_type": "stream",
          "name": "stdout",
          "text": [
            "0 1 2 4 5 "
          ]
        }
      ]
    },
    {
      "cell_type": "code",
      "source": [
        "\"\"\"\n",
        "Write a Python program to calculate a dog's age in dog years.\n",
        "Note: For the first two years, a dog year is equal to 10.5 human years. After that, each dog year equals 4 human years.\n",
        "Expected Output:\n",
        "Input a dog's age in human years: 15\n",
        "The dog's age in dog's years is 73\n",
        "\"\"\"\n",
        "# Tworzymy zmienną dla wieku psa w ludzkich latach. Prosimy o wpisanie wartości przez użytkownika.\n",
        "humanDogAage = int(input(\"Input a dog's age in human years: \"))\n",
        "# Jeżeli wiek psa podany przez użytkownika jest mniejszy bądź równy 2 to mnożymy ten wiek przez 10.5.\n",
        "if humanDogAage <= 2:\n",
        "    realDogAge = humanDogAage * 10.5\n",
        "# Jeżeli wiek jest większy od 2 to dodajemy 21 i mnożymy wiek psa (minus dwa pierwsze lata) razy 4.\n",
        "else:\n",
        "    realDogAge = 21 + (humanDogAage - 2) * 4\n",
        "print(\"The dog's age in dog's years is\", realDogAge)"
      ],
      "metadata": {
        "colab": {
          "base_uri": "https://localhost:8080/"
        },
        "id": "AHycxj3LTXY6",
        "outputId": "fca3fd1c-4921-4a73-9c48-9b871231f54a"
      },
      "execution_count": null,
      "outputs": [
        {
          "output_type": "stream",
          "name": "stdout",
          "text": [
            "Input a dog's age in human years: 4\n",
            "The dog's age in dog's years is 29\n"
          ]
        }
      ]
    },
    {
      "cell_type": "code",
      "source": [
        "\"\"\"\n",
        "Write a Python program to check whether an alphabet is a vowel or consonant.\n",
        "Expected Output:\n",
        "Input a letter of the alphabet: k\n",
        "k is a consonant.\n",
        "\"\"\"\n",
        "# Prosimy użytkownika o podanie litery alfabetu.\n",
        "userLetterOfAlphabet = input(\"Input a letter of the alphabet: \")\n",
        "# Sprawdzamy czy ta litera jest samogłoską. Jeżeli tak to wyświetlamy wiadomość, że jest.\n",
        "if userLetterOfAlphabet in ('a', 'e', 'i', 'o', 'u', 'y'):\n",
        "    print(\"%s is a vowel.\" % userLetterOfAlphabet)\n",
        "else:\n",
        "    print(\"%s is a consonant.\" % userLetterOfAlphabet)"
      ],
      "metadata": {
        "colab": {
          "base_uri": "https://localhost:8080/"
        },
        "id": "TgvqDQdYUrP5",
        "outputId": "e6c23c53-e0cf-4d40-f1f4-bfc78ea01ddc"
      },
      "execution_count": null,
      "outputs": [
        {
          "output_type": "stream",
          "name": "stdout",
          "text": [
            "Input a letter of the alphabet: a\n",
            "a is a vowel.\n"
          ]
        }
      ]
    },
    {
      "cell_type": "code",
      "source": [
        "\"\"\"\n",
        "Write a Python program to convert a month name to a number of days.\n",
        "Expected Output:\n",
        "\n",
        "List of months: January, February, March, April, May, June, July, August\n",
        ", September, October, November, December\n",
        "Input the name of Month: February\n",
        "No. of days: 28/29 days\n",
        "\"\"\"\n",
        "# Prosimy użytkownika o wpisanie miesiąca.\n",
        "userMonth = input(\"Input the name of Month: \")\n",
        "# Dla danuch miesięcy, w zależności które to, wyświetlamy odpowiednie wiadomości z ilością dni.\n",
        "if userMonth == \"February\":\n",
        "    print(\"No. of days: 28/29 days\")\n",
        "elif userMonth in (\"April\", \"June\", \"September\", \"November\"):\n",
        "    print(\"No. of days: 30 days\")\n",
        "elif userMonth in (\"January\", \"March\", \"May\", \"July\", \"August\", \"October\", \"December\"):\n",
        "    print(\"No. of days: 31 days\")\n",
        "else:\n",
        "    print(\"Wrong month name\")"
      ],
      "metadata": {
        "colab": {
          "base_uri": "https://localhost:8080/"
        },
        "id": "bfcSX-cFVhK2",
        "outputId": "80181a24-00b1-434a-9c6b-542cef07e6cc"
      },
      "execution_count": null,
      "outputs": [
        {
          "output_type": "stream",
          "name": "stdout",
          "text": [
            "Input the name of Month: February\n",
            "No. of days: 28/29 days\n"
          ]
        }
      ]
    },
    {
      "cell_type": "code",
      "source": [
        "\"\"\"\n",
        "Write a Python program to sum two integers. However, if the sum is between 15 and 20 it will return 20.\n",
        "\"\"\"\n",
        "# Tworzymy funkcję z dwoma argumentami.\n",
        "def sum(x, y):\n",
        "    # Liczymy sumę obu argumentów.\n",
        "    sum = x + y\n",
        "    # Jeżeli suma jest pomiędzy 15 a 20 to zwracamy 20. W przeciwnym razie zwracamy sumę.\n",
        "    if sum in range(15, 20):\n",
        "        return 20\n",
        "    else:\n",
        "        return sum\n",
        "print(sum(10, 8))"
      ],
      "metadata": {
        "colab": {
          "base_uri": "https://localhost:8080/"
        },
        "id": "2vIaWivtWSv-",
        "outputId": "2732ee67-c046-41e2-d4cd-24a44d6db1d6"
      },
      "execution_count": null,
      "outputs": [
        {
          "output_type": "stream",
          "name": "stdout",
          "text": [
            "20\n"
          ]
        }
      ]
    },
    {
      "cell_type": "code",
      "source": [
        "\"\"\"\n",
        "Write a Python program to check if a triangle is equilateral, isosceles or scalene.\n",
        "Note :\n",
        "An equilateral triangle is a triangle in which all three sides are equal.\n",
        "A scalene triangle is a triangle that has three unequal sides.\n",
        "An isosceles triangle is a triangle with (at least) two equal sides.\n",
        "Expected Output:\n",
        "Input lengths of the triangle sides:\n",
        "x: 6\n",
        "y: 8\n",
        "z: 12\n",
        "Scalene triangle\n",
        "\"\"\"\n",
        "# Prosimy użytkownika o podanie długości boków trójkąta.\n",
        "print(\"Input lengths of the triangle sides: \")\n",
        "x = int(input(\"x: \"))\n",
        "y = int(input(\"y: \"))\n",
        "z = int(input(\"z: \"))\n",
        "# Jeżeli boki są sobie równe, to wyświetlamy, że trójkąt jest równoboczny.\n",
        "if x == y == z:\n",
        "    print(\"Equilateral triangle\")\n",
        "# Jeżeli tylko dwa boki są sobie równe, to wyświetlamy, że trójkąt jest równoramienny.\n",
        "elif x == y or y == z or z == x:\n",
        "    print(\"Isosceles triangle\")\n",
        "# W przeciwnym razie wyświetlamy,że trójkąt jest różnoboczny.\n",
        "else:\n",
        "    print(\"Scalene triangle\")"
      ],
      "metadata": {
        "colab": {
          "base_uri": "https://localhost:8080/"
        },
        "id": "uN8umjwzXJwe",
        "outputId": "025c072d-9726-496b-ce8c-3b133938a7f9"
      },
      "execution_count": null,
      "outputs": [
        {
          "output_type": "stream",
          "name": "stdout",
          "text": [
            "Input lengths of the triangle sides: \n",
            "x: 4\n",
            "y: 5\n",
            "z: 6\n",
            "Scalene triangle\n"
          ]
        }
      ]
    },
    {
      "cell_type": "code",
      "source": [
        "\"\"\"\n",
        "Write a Python program that reads two integers representing a month and day and prints the season for that month and day.\n",
        "Expected Output:\n",
        "\n",
        "Input the month (e.g. January, February etc.): july\n",
        "Input the day: 31\n",
        "Season is autumn\n",
        "\"\"\"\n",
        "# Prosimy użytkownika o wpisanie miesiąca i dnia.\n",
        "userMonth = input(\"Input the name of Month: \")\n",
        "userDay = int(input(\"Input the day: \"))\n",
        "# Wyświetlamy jaki to sezon na podstawie tego jaki to miesiąc.\n",
        "if userMonth in ('January', 'February', 'March'):\n",
        "    season = 'winter'\n",
        "elif userMonth in ('April', 'May', 'June'):\n",
        "    season = 'spring'\n",
        "elif userMonth in ('July', 'August', 'September'):\n",
        "    season = 'summer'\n",
        "else:\n",
        "    season = 'autumn'\n",
        "\"\"\"\n",
        "Dodatkowo w zależności od tego jaki uztkownik wpisał dzień to w przypadku miesięcy:\n",
        "March, June, September, December zmieniamy ewentualny sezon.\n",
        "\"\"\"\n",
        "if (userMonth == 'March') and (userDay > 19):\n",
        "    season = 'spring'\n",
        "elif (userMonth == 'June') and (userDay > 20):\n",
        "    season = 'summer'\n",
        "elif (userMonth == 'September') and (userDay > 21):\n",
        "    season = 'autumn'\n",
        "elif (userMonth == 'December') and (userDay > 20):\n",
        "    season = 'winter'\n",
        "print(\"Season is\", season)"
      ],
      "metadata": {
        "colab": {
          "base_uri": "https://localhost:8080/"
        },
        "id": "KjDizDSZYYKx",
        "outputId": "0a7e4b03-3e12-4db2-d36d-a303d726ef5e"
      },
      "execution_count": null,
      "outputs": [
        {
          "output_type": "stream",
          "name": "stdout",
          "text": [
            "Input the name of Month: March\n",
            "Input the day: 19\n",
            "Season is winter\n"
          ]
        }
      ]
    },
    {
      "cell_type": "code",
      "source": [
        "\"\"\"\n",
        "Write a Python program that iterates the integers from 1 to 50.\n",
        "For multiples of three print \"Fizz\" instead of the number and for multiples of five print \"Buzz\".\n",
        "For numbers that are multiples of three and five, print \"FizzBuzz\".\n",
        "Sample Output :\n",
        "fizzbuzz\n",
        "1\n",
        "2\n",
        "fizz\n",
        "4\n",
        "buzz\n",
        "\"\"\"\n",
        "# Używamy funkcji range do iteracji do 50.\n",
        "for iterationTo50 in range(51):\n",
        "    # Jeżeli numery są podzielne przez 3 i 5 to wyświetlamy \"fizzbuzz\".\n",
        "    if iterationTo50 % 3 == 0 and iterationTo50 % 5 == 0:\n",
        "        print(\"fizzbuzz\")\n",
        "        # Kontynuujemy, nie przerywamy pętli.\n",
        "        continue\n",
        "    # Jeżeli numer jest podzielny przez 3 to wyświetlamy \"fizz\".\n",
        "    elif iterationTo50 % 3 == 0:\n",
        "        print(\"fizz\")\n",
        "        # Kontynuujemy, nie przerywamy pętli.\n",
        "        continue\n",
        "    # Jeżeli numer jest podzielny przez 5 to wyświetlamy \"buzz\".\n",
        "    elif iterationTo50 % 5 == 0:\n",
        "        print(\"buzz\")\n",
        "        # Kontynuujemy, nie przerywamy pętli.\n",
        "        continue\n",
        "    print(iterationTo50)"
      ],
      "metadata": {
        "id": "wWNf3dRgaa66",
        "colab": {
          "base_uri": "https://localhost:8080/"
        },
        "outputId": "3925f2ae-ca47-4171-fbf7-088e5a883f58"
      },
      "execution_count": null,
      "outputs": [
        {
          "output_type": "stream",
          "name": "stdout",
          "text": [
            "fizzbuzz\n",
            "1\n",
            "2\n",
            "fizz\n",
            "4\n",
            "buzz\n",
            "fizz\n",
            "7\n",
            "8\n",
            "fizz\n",
            "buzz\n",
            "11\n",
            "fizz\n",
            "13\n",
            "14\n",
            "fizzbuzz\n",
            "16\n",
            "17\n",
            "fizz\n",
            "19\n",
            "buzz\n",
            "fizz\n",
            "22\n",
            "23\n",
            "fizz\n",
            "buzz\n",
            "26\n",
            "fizz\n",
            "28\n",
            "29\n",
            "fizzbuzz\n",
            "31\n",
            "32\n",
            "fizz\n",
            "34\n",
            "buzz\n",
            "fizz\n",
            "37\n",
            "38\n",
            "fizz\n",
            "buzz\n",
            "41\n",
            "fizz\n",
            "43\n",
            "44\n",
            "fizzbuzz\n",
            "46\n",
            "47\n",
            "fizz\n",
            "49\n",
            "buzz\n"
          ]
        }
      ]
    },
    {
      "cell_type": "code",
      "source": [
        "\"\"\"\n",
        "Write a Python program to get the Fibonacci series between 0 and 50.\n",
        "Note : The Fibonacci Sequence is the series of numbers :\n",
        "0, 1, 1, 2, 3, 5, 8, 13, 21, ....\n",
        "Every next number is found by adding up the two numbers before it.\n",
        "Expected Output : 1 1 2 3 5 8 13 21 34\n",
        "\"\"\"\n",
        "# Tworzymy dwie zmienne z wartościami 0 i 1.\n",
        "x = 0\n",
        "y = 1\n",
        "# Tworzymy pętlę o jakimś zakresie.\n",
        "while y < 56:\n",
        "    # Wyświetlamy x o wartości 0, które jest początkiem ciągu.\n",
        "    print(x)\n",
        "    # Kontynuujemy wyświetlanie liczb. Każda kolejna jest sumą dwóch poprzednich.\n",
        "    x, y = y, x + y"
      ],
      "metadata": {
        "colab": {
          "base_uri": "https://localhost:8080/"
        },
        "id": "OjXxrvjQgHC2",
        "outputId": "a93dc2a8-b3a2-4ad9-8de0-2a9fbde32d7a"
      },
      "execution_count": null,
      "outputs": [
        {
          "output_type": "stream",
          "name": "stdout",
          "text": [
            "0\n",
            "1\n",
            "1\n",
            "2\n",
            "3\n",
            "5\n",
            "8\n",
            "13\n",
            "21\n",
            "34\n"
          ]
        }
      ]
    },
    {
      "cell_type": "code",
      "source": [
        "\"\"\"\n",
        "Write a Python program that accepts a string and calculates the number of digits and letters.\n",
        "Sample Data : Python 3.2\n",
        "Expected Output :\n",
        "Letters 6\n",
        "Digits 2\n",
        "\"\"\"\n",
        "# Prosimy użytkownka o wpisanie czegoś w stringu.\n",
        "inputString = input(\"Input a string: \")\n",
        "\n",
        "# Tworzymy dwie zmienne do liczenia liczb i liter.\n",
        "digits = letters = 0\n",
        "\"\"\"\n",
        "Dla każdego znaku w stringu sprawdzamy,\n",
        "czy jest literą czy cyfrą i zwiększamy o 1 wartość\n",
        "odpowiedniej zmiennej (liter lub cyfr)\n",
        "\"\"\"\n",
        "for char in inputString:\n",
        "    if char.isdigit():\n",
        "        digits = digits + 1\n",
        "    elif char.isalpha():\n",
        "        letters = letters + 1\n",
        "    else:\n",
        "        pass\n",
        "print(\"Letters: \", letters)\n",
        "print(\"Digits: \", digits)"
      ],
      "metadata": {
        "colab": {
          "base_uri": "https://localhost:8080/"
        },
        "id": "OTYxnJOOhrYe",
        "outputId": "e15d8235-6262-43e8-efee-1d11ae4c2c3f"
      },
      "execution_count": 15,
      "outputs": [
        {
          "output_type": "stream",
          "name": "stdout",
          "text": [
            "Input a string: Magda1234\n",
            "Letters:  5\n",
            "Digits:  4\n"
          ]
        }
      ]
    },
    {
      "cell_type": "code",
      "source": [
        "\"\"\"\n",
        "Write a Python program to check the validity of passwords input by users.\n",
        "Validation :\n",
        "\n",
        "At least 1 letter between [a-z] and 1 letter between [A-Z].\n",
        "At least 1 number between [0-9].\n",
        "At least 1 character from [$#@].\n",
        "Minimum length 6 characters.\n",
        "Maximum length 16 characters.\n",
        "\"\"\"\n",
        "# Importujemy odpowiednią bibliotekę w Pythonie.\n",
        "import re\n",
        "# Prosimy użytkownika o wpisanie hasła.\n",
        "inputPassword = input(\"Input your password: \")\n",
        "\"\"\"\n",
        "Ustawiamy naszą zmienną na prawdę, żeby wejść do pętli\n",
        "i kontynuować ją dopóki x jest prawdziwe.\n",
        "\"\"\"\n",
        "x = True\n",
        "while x:\n",
        "    # Sprawdzamy jego długość.\n",
        "    if (len(inputPassword) < 6 or len(inputPassword) > 16):\n",
        "        break\n",
        "    # Sprawdzamy czy zawiera przynajmniej jedną małą literę alfabetu.\n",
        "    elif not re.search(\"[a-z]\", inputPassword):\n",
        "        break\n",
        "    # Sprawdzamy czy zawiera przynajmniej jedną cyfrę.\n",
        "    elif not re.search(\"[0-9]\", inputPassword):\n",
        "        break\n",
        "    # Sprawdzamy czy zawiera przynajmniej jedną wielką literę alfabetu.\n",
        "    elif not re.search(\"[A-Z]\", inputPassword):\n",
        "        break\n",
        "    # Sprawdzamy czy zawiera przynajmniej jeden specjalny znak.\n",
        "    elif not re.search(\"[$#@]\", inputPassword):\n",
        "        break\n",
        "    # Sprawdzamy czy nie zawiera spacji.\n",
        "    elif re.search(\"\\s\", inputPassword):\n",
        "        break\n",
        "    # Jeżeli hasło jest poprawne, to ustawiamy x na False i wyświetlamy, że jest poprawne.\n",
        "    else:\n",
        "        print(\"Valid Password\")\n",
        "        x = False\n",
        "        break\n",
        "# Jak hasło jest niepoprawne, to wyświetlamy, że jest niepoprawne.\n",
        "if x:\n",
        "    print(\"Not a Valid Password\")"
      ],
      "metadata": {
        "colab": {
          "base_uri": "https://localhost:8080/"
        },
        "id": "ZTvunivEkbhZ",
        "outputId": "32a4c8e6-224b-4b3e-b26d-7effc159ed10"
      },
      "execution_count": 23,
      "outputs": [
        {
          "output_type": "stream",
          "name": "stdout",
          "text": [
            "Input your password: Magdalena123@\n",
            "Valid Password\n"
          ]
        }
      ]
    },
    {
      "cell_type": "code",
      "source": [
        "\"\"\"\n",
        "Write a Python program to find numbers between 100 and 400 (both included),\n",
        "where each digit of a number is an even number.\n",
        "The numbers obtained should be printed in a comma-separated sequence.\n",
        "\"\"\"\n",
        "# Tworzymy pustą listę.\n",
        "items = []\n",
        "\"\"\"\n",
        "Każdy element od 100 do 400 konwertujemy na stringa.\n",
        "Będzie to potrzebne do sprawdzenia każdej cyfry z liczby.\n",
        "\"\"\"\n",
        "for i in range(100, 401):\n",
        "    itemsString = str(i)\n",
        "    # Jeżeli każda cyfra z liczby jest podzielna przez dwa, to dodajemy ją do naszej listy items.\n",
        "    if (int(itemsString[0]) % 2 == 0) and (int(itemsString[1]) % 2 == 0) and (int(itemsString[2]) % 2 == 0):\n",
        "        items.append(itemsString)\n",
        "print(\",\".join(items))"
      ],
      "metadata": {
        "colab": {
          "base_uri": "https://localhost:8080/"
        },
        "id": "KUu_mPUwm3zZ",
        "outputId": "5703a99e-d46e-4e00-d4bc-402ed4c21c89"
      },
      "execution_count": 24,
      "outputs": [
        {
          "output_type": "stream",
          "name": "stdout",
          "text": [
            "200,202,204,206,208,220,222,224,226,228,240,242,244,246,248,260,262,264,266,268,280,282,284,286,288,400\n"
          ]
        }
      ]
    },
    {
      "cell_type": "code",
      "source": [
        "\"\"\"\n",
        "Write a Python program to print the alphabet pattern 'A'.\n",
        "Expected Output:\n",
        "\n",
        "  ***\n",
        " *   *\n",
        " *   *\n",
        " *****\n",
        " *   *\n",
        " *   *\n",
        " *   *\n",
        " \"\"\"\n",
        "# Tworzymy pustą zmienną w stringu, która na koniec będzie naszym \"A\"\n",
        "resultString = \"\"\n",
        "# Tworzymy iterację dla rzędu.\n",
        "for row in range(0, 7):\n",
        "    # Następnie tworzymy iterację dla kolumn.\n",
        "    for column in range(0, 7):\n",
        "        # Dodajemy \"*\" i \" \" w odpowiednich rzędach i kolumnach.\n",
        "        if (((column == 1 or column == 5) and row != 0) or ((row == 0 or row == 3) and (column > 1 and column < 5))):\n",
        "            resultString = resultString + \"*\"\n",
        "        else:\n",
        "            resultString = resultString + \" \"\n",
        "    # Po każdym rzędzie przechodzimy do nowej lini.\n",
        "    resultString = resultString + \"\\n\"\n",
        "print(resultString)"
      ],
      "metadata": {
        "colab": {
          "base_uri": "https://localhost:8080/"
        },
        "id": "9Xb01SB4o9v_",
        "outputId": "40e32bfd-ad6c-4cce-c7c3-061bd313f6a7"
      },
      "execution_count": 26,
      "outputs": [
        {
          "output_type": "stream",
          "name": "stdout",
          "text": [
            "  ***  \n",
            " *   * \n",
            " *   * \n",
            " ***** \n",
            " *   * \n",
            " *   * \n",
            " *   * \n",
            "\n"
          ]
        }
      ]
    },
    {
      "cell_type": "code",
      "source": [
        "\"\"\"\n",
        "Write a Python program to print the alphabet pattern 'D'.\n",
        "Expected Output:\n",
        "\n",
        " ****\n",
        " *   *\n",
        " *   *\n",
        " *   *\n",
        " *   *\n",
        " *   *\n",
        " ****\n",
        " \"\"\"\n",
        "# Tworzymy pustą zmienną w stringu, która na koniec będzie naszym \"D\"\n",
        "resultString = \"\"\n",
        "# Tworzymy iterację dla rzędu.\n",
        "for row in range(0, 7):\n",
        "    # Następnie tworzymy iterację dla kolumn.\n",
        "    for column in range(0, 7):\n",
        "        # Dodajemy \"*\" i \" \" w odpowiednich rzędach i kolumnach.\n",
        "        if (column == 1 or ((row == 0 or row == 6) and (column > 1 and column < 5)) or (column == 5 and row != 0 and row != 6)):\n",
        "            resultString = resultString + \"*\"\n",
        "        else:\n",
        "            resultString = resultString + \" \"\n",
        "    # Po każdym rzędzie przechodzimy do nowej lini.\n",
        "    resultString = resultString + \"\\n\"\n",
        "print(resultString)"
      ],
      "metadata": {
        "colab": {
          "base_uri": "https://localhost:8080/"
        },
        "id": "Bu73sWvtqnto",
        "outputId": "96e1f2f1-7495-471a-8431-ec57eab54215"
      },
      "execution_count": 27,
      "outputs": [
        {
          "output_type": "stream",
          "name": "stdout",
          "text": [
            " ****  \n",
            " *   * \n",
            " *   * \n",
            " *   * \n",
            " *   * \n",
            " *   * \n",
            " ****  \n",
            "\n"
          ]
        }
      ]
    },
    {
      "cell_type": "code",
      "source": [
        "\"\"\"\n",
        "Write a Python program to print the alphabet pattern 'E'.\n",
        "Expected Output:\n",
        "\n",
        " *****\n",
        " *\n",
        " *\n",
        " ****\n",
        " *\n",
        " *\n",
        " *****\n",
        "\"\"\"\n",
        "# Tworzymy pustą zmienną w stringu, która na koniec będzie naszym \"E\"\n",
        "resultString = \"\"\n",
        "# Tworzymy iterację dla rzędu.\n",
        "for row in range(0, 7):\n",
        "    # Następnie tworzymy iterację dla kolumn.\n",
        "    for column in range(0, 7):\n",
        "        # Dodajemy \"*\" i \" \" w odpowiednich rzędach i kolumnach.\n",
        "        if (column == 1 or ((row == 0 or row == 6) and (column > 1 and column < 6)) or (row == 3 and column > 1 and column < 5)):\n",
        "            resultString = resultString + \"*\"\n",
        "        else:\n",
        "            resultString = resultString + \" \"\n",
        "    # Po każdym rzędzie przechodzimy do nowej lini.\n",
        "    resultString = resultString + \"\\n\"\n",
        "print(resultString)"
      ],
      "metadata": {
        "colab": {
          "base_uri": "https://localhost:8080/"
        },
        "id": "Bxt--8OtrBCv",
        "outputId": "db8ba2b0-5c78-4e43-f232-b42114065bbb"
      },
      "execution_count": 28,
      "outputs": [
        {
          "output_type": "stream",
          "name": "stdout",
          "text": [
            " ***** \n",
            " *     \n",
            " *     \n",
            " ****  \n",
            " *     \n",
            " *     \n",
            " ***** \n",
            "\n"
          ]
        }
      ]
    },
    {
      "cell_type": "code",
      "source": [
        "\"\"\"\n",
        "Write a Python program to print the alphabet pattern 'L'.\n",
        "Expected Output:\n",
        "\n",
        " *\n",
        " *\n",
        " *\n",
        " *\n",
        " *\n",
        " *\n",
        " *****\n",
        " \"\"\"\n",
        "# Tworzymy pustą zmienną w stringu, która na koniec będzie naszym \"L\"\n",
        "resultString = \"\"\n",
        "# Tworzymy iterację dla rzędu.\n",
        "for row in range(0, 7):\n",
        "    # Następnie tworzymy iterację dla kolumn.\n",
        "    for column in range(0, 7):\n",
        "        # Dodajemy \"*\" i \" \" w odpowiednich rzędach i kolumnach.\n",
        "        if (column == 1 or (row == 6 and column != 0 and column < 6)):\n",
        "            resultString = resultString + \"*\"\n",
        "        else:\n",
        "            resultString = resultString + \" \"\n",
        "    # Po każdym rzędzie przechodzimy do nowej lini.\n",
        "    resultString = resultString + \"\\n\"\n",
        "print(resultString)"
      ],
      "metadata": {
        "colab": {
          "base_uri": "https://localhost:8080/"
        },
        "id": "C98h_CfOrb9Z",
        "outputId": "0d56ece3-d1da-4390-cec5-3d3917cd9301"
      },
      "execution_count": 29,
      "outputs": [
        {
          "output_type": "stream",
          "name": "stdout",
          "text": [
            " *     \n",
            " *     \n",
            " *     \n",
            " *     \n",
            " *     \n",
            " *     \n",
            " ***** \n",
            "\n"
          ]
        }
      ]
    },
    {
      "cell_type": "code",
      "source": [
        "\"\"\"\n",
        "Write a Python program to print the alphabet pattern 'O'.\n",
        "Expected Output:\n",
        "\n",
        "  ***\n",
        " *   *\n",
        " *   *\n",
        " *   *\n",
        " *   *\n",
        " *   *\n",
        "  ***\n",
        "\"\"\"\n",
        "# Tworzymy pustą zmienną w stringu, która na koniec będzie naszym \"O\"\n",
        "resultString = \"\"\n",
        "# Tworzymy iterację dla rzędu.\n",
        "for row in range(0, 7):\n",
        "    # Następnie tworzymy iterację dla kolumn.\n",
        "    for column in range(0, 7):\n",
        "        # Dodajemy \"*\" i \" \" w odpowiednich rzędach i kolumnach.\n",
        "        if (((column == 1 or column == 5) and row != 0 and row != 6) or ((row == 0 or row == 6) and column > 1 and column < 5)):\n",
        "            resultString = resultString + \"*\"\n",
        "        else:\n",
        "            resultString = resultString + \" \"\n",
        "    # Po każdym rzędzie przechodzimy do nowej lini.\n",
        "    resultString = resultString + \"\\n\"\n",
        "print(resultString)"
      ],
      "metadata": {
        "colab": {
          "base_uri": "https://localhost:8080/"
        },
        "id": "_9T_7MUPrqtG",
        "outputId": "2be1c189-2224-4d75-aa59-5731203ef423"
      },
      "execution_count": 30,
      "outputs": [
        {
          "output_type": "stream",
          "name": "stdout",
          "text": [
            "  ***  \n",
            " *   * \n",
            " *   * \n",
            " *   * \n",
            " *   * \n",
            " *   * \n",
            "  ***  \n",
            "\n"
          ]
        }
      ]
    }
  ]
}