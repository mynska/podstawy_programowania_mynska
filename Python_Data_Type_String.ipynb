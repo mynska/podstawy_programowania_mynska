{
  "cells": [
    {
      "cell_type": "markdown",
      "metadata": {
        "id": "view-in-github",
        "colab_type": "text"
      },
      "source": [
        "<a href=\"https://colab.research.google.com/github/mynska/podstawy_programowania_mynska/blob/Python/Python_Data_Type_String.ipynb\" target=\"_parent\"><img src=\"https://colab.research.google.com/assets/colab-badge.svg\" alt=\"Open In Colab\"/></a>"
      ]
    },
    {
      "cell_type": "markdown",
      "source": [
        "# Python Data Type: String"
      ],
      "metadata": {
        "id": "4_ZAJ0QGJgRp"
      }
    },
    {
      "cell_type": "code",
      "source": [
        "\"\"\"\n",
        "Write a Python program to calculate the length of a string.\n",
        "\"\"\"\n",
        "# Tworzymy funkcję przyjmującą jako argument string1.\n",
        "def lenghtOfString (string1):\n",
        "  lenght=0\n",
        "  \"\"\"\n",
        "  Dla każdej litery w stringu zwiększamy wartość zmiennej lenght,\n",
        "  która oznacza długość naszego stringa.\n",
        "  \"\"\"\n",
        "  for char in string1:\n",
        "    lenght += 1\n",
        "  return lenght\n",
        "print(lenghtOfString(\"Magdalena Kałużyńska\"))"
      ],
      "metadata": {
        "colab": {
          "base_uri": "https://localhost:8080/"
        },
        "id": "4S_3y_2ZLDAJ",
        "outputId": "45a54ff1-f9fb-4add-e3e8-975afdee94e3"
      },
      "execution_count": 3,
      "outputs": [
        {
          "output_type": "stream",
          "name": "stdout",
          "text": [
            "20\n"
          ]
        }
      ]
    },
    {
      "cell_type": "code",
      "source": [
        "\"\"\"\n",
        "Write a Python program to get a string made of the first 2 and last 2 characters of a given string.\n",
        "If the string length is less than 2, return the empty string instead.\n",
        "Sample String : 'w3resource'\n",
        "Expected Result : 'w3ce'\n",
        "Sample String : 'w3'\n",
        "Expected Result : 'w3w3'\n",
        "Sample String : ' w'\n",
        "Expected Result : Empty String\n",
        "\"\"\"\n",
        "# Tworzymy funkcję przyjmującą jako argument string1.\n",
        "def addFirstAndLast2Chars (string1):\n",
        "  # Dla długości stringa mniejszej od 2 nie zwracamy niczego.\n",
        "  if len(string1)<2:\n",
        "    return \"\"\n",
        "    # W przeciwnym wypadku zwracamy dwie pierwsze i dwie ostatnie listery ze stringa.\n",
        "  else:\n",
        "    return string1[:2] + string1[-2:]\n",
        "print(addFirstAndLast2Chars(\"Magdalena Kałużyńska\"))\n",
        "print(addFirstAndLast2Chars(\"MK\"))\n",
        "print(addFirstAndLast2Chars(\"M\"))"
      ],
      "metadata": {
        "colab": {
          "base_uri": "https://localhost:8080/"
        },
        "id": "V_I4Zr18QsrY",
        "outputId": "9fb7c3f5-0ff0-4fe2-8c16-fe6b70f1e1de"
      },
      "execution_count": 5,
      "outputs": [
        {
          "output_type": "stream",
          "name": "stdout",
          "text": [
            "Maka\n",
            "MKMK\n",
            "\n"
          ]
        }
      ]
    },
    {
      "cell_type": "code",
      "source": [
        "\"\"\"\n",
        "Write a Python program to get a single string from two given strings,\n",
        "separated by a space and swap the first two characters of each string.\n",
        "Sample String : 'abc', 'xyz'\n",
        "Expected Result : 'xyc abz'\n",
        "\"\"\"\n",
        "# Tworzymy funkcję przyjmującą jako argumenty string1 i string2.\n",
        "def swapingFirstTwoChars (string1, string2):\n",
        "  # Zwracamy pojedynczy ciąg znaków z dwóch podanych ciągów, oddzielonych spacją i zamieniamy pierwsze dwa znaki każdego ciągu.\n",
        "  return string2[:2] + string1[2:] + \" \" + string1[:2] + string2[2:]\n",
        "print(swapingFirstTwoChars(\"abc\", \"xyz\"))"
      ],
      "metadata": {
        "colab": {
          "base_uri": "https://localhost:8080/"
        },
        "id": "xxVZiam7U8J4",
        "outputId": "21eb09a8-b37b-4421-d019-9d0515799adc"
      },
      "execution_count": 6,
      "outputs": [
        {
          "output_type": "stream",
          "name": "stdout",
          "text": [
            "xyc abz\n"
          ]
        }
      ]
    },
    {
      "cell_type": "code",
      "source": [
        "\"\"\"\n",
        "Write a Python program to add 'ing' at the end of a given string (length should be at least 3).\n",
        "If the given string already ends with 'ing', add 'ly' instead.\n",
        "If the string length of the given string is less than 3, leave it unchanged.\n",
        "Sample String : 'abc'\n",
        "Expected Result : 'abcing'\n",
        "Sample String : 'string'\n",
        "Expected Result : 'stringly'\n",
        "\"\"\"\n",
        "# Tworzymy funkcję przyjmującą jako argument string1.\n",
        "def addIng (string1):\n",
        "  # Dla każdego ciągu znaków mniejszego od 3 zwrazamy ten ciąg znaków.\n",
        "  if len(string1)<3:\n",
        "    return string1\n",
        "  else:\n",
        "    \"\"\"\n",
        "    Jeżeli jednak długość tego ciągu jest dłuższa bądź równa 3 i kończy się na \"ing\"\n",
        "    to zwracamy ten ciąg i dodajemy na końcu \"ly\".\n",
        "    \"\"\"\n",
        "    if string1[-3:] == \"ing\":\n",
        "      return string1 + \"ly\"\n",
        "    # Jeżeli nie kończy się na \"ing\" to dodajemy \"ing\" na końcu ciągu.\n",
        "    else:\n",
        "      return string1 + \"ing\"\n",
        "print(addIng(\"abc\"))\n",
        "print(addIng(\"string\"))\n",
        "print(addIng(\"ab\"))"
      ],
      "metadata": {
        "id": "pKZsryKmXCD2",
        "outputId": "a60ea159-07c1-4c3c-f47b-b1f3f3edbfec",
        "colab": {
          "base_uri": "https://localhost:8080/"
        }
      },
      "execution_count": 14,
      "outputs": [
        {
          "output_type": "stream",
          "name": "stdout",
          "text": [
            "abcing\n",
            "stringly\n",
            "ab\n"
          ]
        }
      ]
    },
    {
      "cell_type": "code",
      "source": [
        "\"\"\"\n",
        "Write a Python program to change a given string to a newly string where the first and last chars have been exchanged.\n",
        "\"\"\"\n",
        "# Tworzymy funkcję przyjmującą jako argument string1.\n",
        "def changeString(string1):\n",
        "    # Dodajemy do siebie odpowiednie części stringa, zamieniając ze sobą pierwszą i ostatnią literę.\n",
        "    return string1[-1:] + string1[1:-1] + string1[:1]\n",
        "print(changeString('abcd'))\n",
        "print(changeString('12345'))\n",
        "print(changeString('Magda'))"
      ],
      "metadata": {
        "id": "I-89I6Yhcpn5",
        "outputId": "6e2d5fbd-5fcd-46ea-cbde-2827845011f5",
        "colab": {
          "base_uri": "https://localhost:8080/"
        }
      },
      "execution_count": 15,
      "outputs": [
        {
          "output_type": "stream",
          "name": "stdout",
          "text": [
            "dbca\n",
            "52341\n",
            "aagdM\n"
          ]
        }
      ]
    },
    {
      "cell_type": "code",
      "source": [
        "\"\"\"\n",
        "Write a Python program to remove characters that have odd index values in a given string.\n",
        "\"\"\"\n",
        "# Tworzymy funkcję przyjmującą jako argument string1.\n",
        "def removeOddChars(string1):\n",
        "    # Definiujemy naszą pustą zmienną wyjściową, do której będą dodawane znaki parzyste.\n",
        "    result = \"\"\n",
        "    # Dla każdego znaku w ciągu, jeżeli jest parzysty, dodajemy ten parzysty znak do zmiennej result.\n",
        "    for i in range(len(string1)):\n",
        "        if i % 2 == 0:\n",
        "            result = result + string1[i]\n",
        "    # Zwracamy wartość zmiennej result, czyli nasze parzyste znaki.\n",
        "    return result\n",
        "print(removeOddChars('Magdalena'))\n",
        "print(removeOddChars('Kałużyńska'))"
      ],
      "metadata": {
        "colab": {
          "base_uri": "https://localhost:8080/"
        },
        "id": "r8UEN55Pk1h4",
        "outputId": "6e8c2dd5-4b06-4c65-e315-286c2b259c9c"
      },
      "execution_count": 23,
      "outputs": [
        {
          "output_type": "stream",
          "name": "stdout",
          "text": [
            "Mgaea\n",
            "Kłżńk\n"
          ]
        }
      ]
    },
    {
      "cell_type": "code",
      "source": [
        "\"\"\"\n",
        "Write a Python program to count the occurrences of each word in a given sentence.\n",
        "\"\"\"\n",
        "# Tworzymy funkcję przyjmującą jako argument string1.\n",
        "def countingWords(string1):\n",
        "    # Tworzymy pusty słownik, w którym przechujemy częstotliwość występowania poszczególnych słów.\n",
        "    counts = dict()\n",
        "    # Dzielimy string1 na słowa i umieszczamy je na liscie words.\n",
        "    words = string1.split()\n",
        "    # Tworzymy pętlę dla każdego słowa w liście words.\n",
        "    for word in words:\n",
        "        # Jeżeli słowo jest już w słowniku zwiększamy wartość o jeden.\n",
        "        if word in counts:\n",
        "            counts[word] += 1\n",
        "        # W przeciwnym razie wartość równa się 1.\n",
        "        else:\n",
        "            counts[word] = 1\n",
        "    # Zwracamy zawartość słownika.\n",
        "    return counts\n",
        "print( countingWords('Magdalena Kałużyńska i Izabela Kałużyńska'))"
      ],
      "metadata": {
        "id": "o5_94JluqPZr",
        "colab": {
          "base_uri": "https://localhost:8080/"
        },
        "outputId": "045be766-5a90-43d2-a9c2-7094725f2466"
      },
      "execution_count": 24,
      "outputs": [
        {
          "output_type": "stream",
          "name": "stdout",
          "text": [
            "{'Magdalena': 1, 'Kałużyńska': 2, 'i': 1, 'Izabela': 1}\n"
          ]
        }
      ]
    },
    {
      "cell_type": "code",
      "source": [
        "\"\"\"\n",
        "Write a Python program to count the number of characters (character frequency) in a string.\n",
        "Sample String : google.com'\n",
        "Expected Result : {'g': 2, 'o': 3, 'l': 1, 'e': 1, '.': 1, 'c': 1, 'm': 1}\n",
        "\"\"\"\n",
        "# Tworzymy funkcję przyjmującą jako argument string1.\n",
        "def frequencyOfChar(string1):\n",
        "    # Tworzymy pusty słownik, w którym przechujemy częstotliwość występowania poszczególnych znaków.\n",
        "    dict = {}\n",
        "    # Dla każdego znaku w ciągu tworzymy klucze w słowniku\n",
        "    for i in string1:\n",
        "        keys = dict.keys()\n",
        "        # Jeżeli jakiś znak ma już klucz, czyli jeżeli jest w słowniku, to dodajemy 1 do wartości jego występowania.\n",
        "        if i in keys:\n",
        "            dict[i] += 1\n",
        "        # W przeciwnym wypadku wartość jego występowania równa się 1.\n",
        "        else:\n",
        "            dict[i] = 1\n",
        "    # Zwracamy zawartość słownika.\n",
        "    return dict\n",
        "print(frequencyOfChar('Magdalena Kałużyńska'))"
      ],
      "metadata": {
        "colab": {
          "base_uri": "https://localhost:8080/"
        },
        "id": "YYYb-25OFx0B",
        "outputId": "df981738-6a04-4af8-c191-1722eac99cb1"
      },
      "execution_count": 25,
      "outputs": [
        {
          "output_type": "stream",
          "name": "stdout",
          "text": [
            "{'M': 1, 'a': 5, 'g': 1, 'd': 1, 'l': 1, 'e': 1, 'n': 1, ' ': 1, 'K': 1, 'ł': 1, 'u': 1, 'ż': 1, 'y': 1, 'ń': 1, 's': 1, 'k': 1}\n"
          ]
        }
      ]
    },
    {
      "cell_type": "code",
      "source": [
        "\"\"\"\n",
        "Write a Python program to get a string from a given string\n",
        "where all occurrences of its first char have been changed to '$', except the first char itself.\n",
        "Sample String : 'restart'\n",
        "Expected Result : 'resta$t'\n",
        "\"\"\"\n",
        "# Tworzymy funkcję przyjmującą jako argument string1.\n",
        "def changeCharForDolar (string1):\n",
        "    # Definiujemy zmienną, której wartość jest pierwszym znakiem z naszego ciągu.\n",
        "    char = string1[0]\n",
        "    # Zamieniamy w naszym ciągu każdy wcześniej zdefiniowany znak na dolara.\n",
        "    string1 = string1.replace(char, '$')\n",
        "    # Dodajemy do siebie char i string1, aby pierwszy znak w ciągu nie był dolarem.\n",
        "    string1 = char + string1[1:]\n",
        "    # Zwracamy nową wartość string1.\n",
        "    return string1\n",
        "print(changeCharForDolar('kajak'))"
      ],
      "metadata": {
        "colab": {
          "base_uri": "https://localhost:8080/"
        },
        "id": "w-hnxdArHl_r",
        "outputId": "59d13089-8b5f-4837-cd38-a1999bfc79b6"
      },
      "execution_count": 33,
      "outputs": [
        {
          "output_type": "stream",
          "name": "stdout",
          "text": [
            "kaja$\n"
          ]
        }
      ]
    },
    {
      "cell_type": "code",
      "source": [
        "\"\"\"\n",
        "Write a Python script that takes input from the user and displays that input back in upper and lower cases.\n",
        "\"\"\"\n",
        "# Tworzymy zmienną, której wartością będzie podany przez użytkownika kolor.\n",
        "inputUserFavColor = input(\"Podaj swój ulubiony kolor: \")\n",
        "# Wyświetlamy podany przez użytkownika kolor wielkimi literami.\n",
        "print(\"Twój ulubiony kolor to: \", inputUserFavColor.upper())\n",
        "# Wyświetlamy podany przez użytkownika kolor małymi literami.\n",
        "print(\"Twój ulubiony kolor to: \", inputUserFavColor.lower())"
      ],
      "metadata": {
        "colab": {
          "base_uri": "https://localhost:8080/"
        },
        "id": "amqiQg3cJkUm",
        "outputId": "a2dc2e8c-c663-4659-84c0-35db3a81ae07"
      },
      "execution_count": 30,
      "outputs": [
        {
          "output_type": "stream",
          "name": "stdout",
          "text": [
            "Podaj swój ulubiony kolor: zielony\n",
            "Twój ulubiony kolor to:  ZIELONY\n",
            "Twój ulubiony kolor to:  zielony\n"
          ]
        }
      ]
    },
    {
      "cell_type": "code",
      "source": [
        "\"\"\"\n",
        "Write a Python program that accepts a comma-separated sequence of words as input\n",
        "and prints the distinct words in sorted form (alphanumerically).\n",
        "Sample Words : red, white, black, red, green, black\n",
        "Expected Result : black, green, red, white,red\n",
        "\"\"\"\n",
        "# Prosimy użytkownika o wypisanie kilku wyrazów oddzielonych przecinkami.\n",
        "itemList = input(\"Wypisz kilka wyrazów oddzielonych przecinkami: \")\n",
        "\n",
        "# Dzielimy wejściowe \"items\" na listę słów, używając przecinka jako separatora i zapisujemy je na liście \"words\".\n",
        "words = [word for word in itemList.split(\",\")]\n",
        "\"\"\"\n",
        "Konwertujemy listę \"words\" na zbiór, aby usunąć wszelkie zduplikowane słowa,\n",
        "a następnie konwertujemy ją z powrotem na listę.\n",
        "Sortujemy listę alfabetycznie i oddzielamy słowa przecinkami.\n",
        "Na koniec wypisujemy posortowaną i oddzieloną przecinkami listę niepowtarzających się słów.\n",
        "\"\"\"\n",
        "print(\",\".join(sorted(list(set(words)))))"
      ],
      "metadata": {
        "colab": {
          "base_uri": "https://localhost:8080/"
        },
        "id": "-kqop5HuLAZe",
        "outputId": "1c394227-ee37-4a01-cea5-4f970b4897b4"
      },
      "execution_count": 32,
      "outputs": [
        {
          "output_type": "stream",
          "name": "stdout",
          "text": [
            "Wypisz kilka wyrazów oddzielonych przecinkami: zielony, niebieski, czerwony, niebieski\n",
            " czerwony, niebieski,zielony\n"
          ]
        }
      ]
    },
    {
      "cell_type": "code",
      "source": [
        "\"\"\"\n",
        "Write a Python function to get a string made of 4 copies of the last two characters\n",
        "of a specified string (length must be at least 2).\n",
        "Sample function and result :\n",
        "insert_end('Python') -> onononon\n",
        "insert_end('Exercises') -> eseseses\n",
        "\"\"\"\n",
        "# Tworzymy funkcję przyjmującą jako argument string1.\n",
        "def newStringFromLast2Chars(string1):\n",
        "    # Tworzymy nowego stringa, składającego się z ostatnich dwóch znaków stringa z argumentu funkcji.\n",
        "    newString = string1[-2:]\n",
        "    # Zwracamy nowego stringa pomnożonego cztery razy.\n",
        "    return newString * 4\n",
        "print(newStringFromLast2Chars('Magdalena'))"
      ],
      "metadata": {
        "colab": {
          "base_uri": "https://localhost:8080/"
        },
        "id": "h_R05ef4NhJS",
        "outputId": "33380a4a-c3e4-4c56-e93a-d3a81332d86e"
      },
      "execution_count": 35,
      "outputs": [
        {
          "output_type": "stream",
          "name": "stdout",
          "text": [
            "nananana\n"
          ]
        }
      ]
    },
    {
      "cell_type": "code",
      "source": [
        "\"\"\"\n",
        "Write a Python function to get a string made of the first three characters of a specified string.\n",
        "If the length of the string is less than 3, return the original string.\n",
        "Sample function and result:\n",
        "first_three('ipy') -> ipy\n",
        "first_three('python') -> pyt\n",
        "\"\"\"\n",
        "# Tworzymy funkcję przyjmującą jako argument string1.\n",
        "def firstThreeCharsFromString(string1):\n",
        "    # Jeżeli długość stringa jest większa niż 3, to zwracamy tylko pierwsze trzy litery(znaki) stringa.\n",
        "    if len(string1) > 3:\n",
        "        return string1[:3]\n",
        "    # W przeciwnym razie zwracamy pierwotnego stringa.\n",
        "    else:\n",
        "        return string1\n",
        "print(firstThreeCharsFromString('Mag'))\n",
        "print(firstThreeCharsFromString('Magdalena'))\n",
        "print(firstThreeCharsFromString('Ma'))"
      ],
      "metadata": {
        "colab": {
          "base_uri": "https://localhost:8080/"
        },
        "id": "CkLLOSrnOuR6",
        "outputId": "0f25c18d-4c51-40ca-fbab-6fd10f2106f3"
      },
      "execution_count": 37,
      "outputs": [
        {
          "output_type": "stream",
          "name": "stdout",
          "text": [
            "Mag\n",
            "Mag\n",
            "Ma\n"
          ]
        }
      ]
    },
    {
      "cell_type": "code",
      "source": [
        "\"\"\"\n",
        "Write a Python function to reverse a string if its length is a multiple of 4.\n",
        "\"\"\"\n",
        "# Tworzymy funkcję przyjmującą jako argument string1.\n",
        "def reverseString(string1):\n",
        "    # Jeżeli długość stringa1 jest podzielna przez 4 to zwracamy odwrotność stringa1.\n",
        "    if len(string1) % 4 == 0:\n",
        "        return ''.join(reversed(string1))\n",
        "    # W przeciwnym wypadku zwracamy pierwotny ciąg.\n",
        "    else:\n",
        "        return string1\n",
        "print(reverseString('Magdalen'))\n",
        "print(reverseString('Kałużyńska'))"
      ],
      "metadata": {
        "colab": {
          "base_uri": "https://localhost:8080/"
        },
        "id": "EzNsPK4XQXRw",
        "outputId": "199fa8db-d20f-4610-9fbb-c39f2f70a412"
      },
      "execution_count": 39,
      "outputs": [
        {
          "output_type": "stream",
          "name": "stdout",
          "text": [
            "neladgaM\n",
            "Kałużyńska\n"
          ]
        }
      ]
    },
    {
      "cell_type": "code",
      "source": [
        "\"\"\"\n",
        "Write a Python function to convert a given string to all uppercase\n",
        "if it contains at least 2 uppercase characters in the first 4 characters.\n",
        "\"\"\"\n",
        "# Tworzymy funkcję przyjmującą jako argument string1.\n",
        "def stringToUpper(string1):\n",
        "    # Tworzymy zmienną przechowującą wartość wielkich liter w stringu1.\n",
        "    numberofUpper = 0\n",
        "    \"\"\"\n",
        "    Dla każdego z pierwszych 4 znaków w stringu1, jeżeli znaki te są wielkimi literami,\n",
        "    do wartości zmiennej numberofUpper dodajemy 1.\n",
        "    \"\"\"\n",
        "    for letter in string1[:4]:\n",
        "        if letter.upper() == letter:\n",
        "            numberofUpper += 1\n",
        "    \"\"\"\n",
        "    Jeżeli w pierwszech 4 znakach w stringu1 są przynajmniej dwie wielkie litery,\n",
        "    to zwracamy string1 zapisany wielkimi literami.\n",
        "    \"\"\"\n",
        "    if numberofUpper >= 2:\n",
        "        return string1.upper()\n",
        "    # W przeciwnym razie zwracamy pierwotny string1.\n",
        "    return string1\n",
        "print(stringToUpper('MaGdalena'))\n",
        "print(stringToUpper('Magdalena'))"
      ],
      "metadata": {
        "colab": {
          "base_uri": "https://localhost:8080/"
        },
        "id": "FHx4am3VRl0I",
        "outputId": "9488db60-305d-4718-c317-f50f2fc20545"
      },
      "execution_count": 40,
      "outputs": [
        {
          "output_type": "stream",
          "name": "stdout",
          "text": [
            "MAGDALENA\n",
            "Magdalena\n"
          ]
        }
      ]
    },
    {
      "cell_type": "code",
      "source": [
        "\"\"\"\n",
        "Write a Python program to reverse a string.\n",
        "\"\"\"\n",
        "# Tworzymy funkcję przyjmującą jako argument string1.\n",
        "def reverseString(string1):\n",
        "    # Zwracamy odwrotność stringa.\n",
        "    return ''.join(reversed(string1))\n",
        "print(reverseString(\"Magdalena\"))"
      ],
      "metadata": {
        "colab": {
          "base_uri": "https://localhost:8080/"
        },
        "id": "hqxa4xV5USFj",
        "outputId": "4e0bc97f-05c5-470a-95cc-b036e3911c41"
      },
      "execution_count": 42,
      "outputs": [
        {
          "output_type": "stream",
          "name": "stdout",
          "text": [
            "aneladgaM\n"
          ]
        }
      ]
    },
    {
      "cell_type": "code",
      "source": [
        "\"\"\"\n",
        "Write a Python program to lowercase the first n characters in a string.\n",
        "\"\"\"\n",
        "# Tworzymy funkcję przyjmującą jako argument string1.\n",
        "def lowerNChars(string1):\n",
        "    # Zwracamy tego samego stringa, ale pierwsze 3 znaki są małymi literami.\n",
        "    return string1[:3].lower() + string1[3:]\n",
        "print(lowerNChars('MAGDALENA'))"
      ],
      "metadata": {
        "colab": {
          "base_uri": "https://localhost:8080/"
        },
        "id": "aqQwwlX8Uw9x",
        "outputId": "3a2c2b8a-d704-4500-e21c-351aaf860303"
      },
      "execution_count": 44,
      "outputs": [
        {
          "output_type": "stream",
          "name": "stdout",
          "text": [
            "magDALENA\n"
          ]
        }
      ]
    },
    {
      "cell_type": "code",
      "source": [
        "\"\"\"\n",
        "Write a Python program to find the first repeated word in a given string.\n",
        "\"\"\"\n",
        "# Tworzymy funkcję przyjmującą jako argument string1.\n",
        "def firstRepeatedWord(string1):\n",
        "    # Utwórz pusty zbiór 'temp' do przechowywania napotkanych unikalnych słów.\n",
        "    temp = set()\n",
        "    \"\"\"\n",
        "    # Dla każdego słowa w string1 oddzielonego spacją,\n",
        "    jeżeli słowo jest w zbiorze temp to je zwracamy.\n",
        "    \"\"\"\n",
        "    for word in string1.split():\n",
        "        if word in temp:\n",
        "            return word\n",
        "        # W przeciwnym razie dodajemy to słowo do zbioru temp.\n",
        "        else:\n",
        "            temp.add(word)\n",
        "    # Jeżeli żadne słowo się nie powtarza to zwracamy 'There is none repeated word in string.'.\n",
        "    return 'There is none repeated word in string.'\n",
        "print(firstRepeatedWord(\"mk nk dk mk\"))\n",
        "print(firstRepeatedWord(\"mk dk nk sk hk\"))\n",
        "print(firstRepeatedWord(\"mk mk nk mk\"))\n",
        "print(firstRepeatedWord(\"mk nk nk mk hk\"))"
      ],
      "metadata": {
        "colab": {
          "base_uri": "https://localhost:8080/"
        },
        "id": "d-wwLaynXBZA",
        "outputId": "6dfafde0-4ac5-452e-82ac-4c881e80360c"
      },
      "execution_count": 47,
      "outputs": [
        {
          "output_type": "stream",
          "name": "stdout",
          "text": [
            "mk\n",
            "There is none repeated word in string.\n",
            "mk\n",
            "nk\n"
          ]
        }
      ]
    },
    {
      "cell_type": "code",
      "source": [
        "\"\"\"\n",
        "Write a Python program to remove spaces from a given string.\n",
        "\"\"\"\n",
        "# Tworzymy funkcję przyjmującą jako argument string1.\n",
        "def removeSpaces(string1):\n",
        "    # Używamy funkcji replace, żeby zastąpić spację jej brakiem w stringu.\n",
        "    string1 = string1.replace(' ', '')\n",
        "    return string1\n",
        "print(removeSpaces(\" M a g d a l e n a \"))"
      ],
      "metadata": {
        "colab": {
          "base_uri": "https://localhost:8080/"
        },
        "id": "BNe6RRNgYui1",
        "outputId": "88b09852-908a-4465-88b5-771c17f39d4f"
      },
      "execution_count": 48,
      "outputs": [
        {
          "output_type": "stream",
          "name": "stdout",
          "text": [
            "Magdalena\n"
          ]
        }
      ]
    },
    {
      "cell_type": "code",
      "source": [
        "\"\"\"\n",
        "Write a Python program to swap cases in a given string.\n",
        "Sample Output:\n",
        "pYTHON eXERCISES\n",
        "jAVA\n",
        "nUMpY\n",
        "\"\"\"\n",
        "# Tworzymy funkcję przyjmującą jako argument string1.\n",
        "def swapingLowAndUpCharsInString(string1):\n",
        "    # Tworzymy nowego stringa, który będzie naszym wynikiem.\n",
        "    newString = \"\"\n",
        "    \"\"\"\n",
        "    Dla każdego znaku w ciągu, jeżeli litera jest wielka,\n",
        "    to zamieniamy ją na małą, a jeżeli jest mała,\n",
        "    to zamieniamy na wielką.\n",
        "    \"\"\"\n",
        "    for char in string1:\n",
        "        if char.isupper():\n",
        "            newString += char.lower()\n",
        "        else:\n",
        "            newString += char.upper()\n",
        "    # Zwracamy ostateczną nową wersję stringa.\n",
        "    return newString\n",
        "print(swapingLowAndUpCharsInString(\"Magdalena Kałużyńska\"))\n",
        "print(swapingLowAndUpCharsInString(\"MAGDALENA\"))\n",
        "print(swapingLowAndUpCharsInString(\"mAGDALENA\"))"
      ],
      "metadata": {
        "colab": {
          "base_uri": "https://localhost:8080/"
        },
        "id": "y5WGQ-XDZyRo",
        "outputId": "66a51bd7-a0a4-4592-87da-ec1396086ace"
      },
      "execution_count": 50,
      "outputs": [
        {
          "output_type": "stream",
          "name": "stdout",
          "text": [
            "mAGDALENA kAŁUŻYŃSKA\n",
            "magdalena\n",
            "Magdalena\n"
          ]
        }
      ]
    }
  ],
  "metadata": {
    "colab": {
      "provenance": [],
      "include_colab_link": true
    },
    "kernelspec": {
      "display_name": "Python 3",
      "name": "python3"
    }
  },
  "nbformat": 4,
  "nbformat_minor": 0
}