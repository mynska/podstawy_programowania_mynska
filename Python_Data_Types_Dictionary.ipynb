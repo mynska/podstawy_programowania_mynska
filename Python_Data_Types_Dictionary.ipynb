{
  "nbformat": 4,
  "nbformat_minor": 0,
  "metadata": {
    "colab": {
      "provenance": [],
      "toc_visible": true,
      "authorship_tag": "ABX9TyNYtX6IgbPfhJbDUVoQDOCh",
      "include_colab_link": true
    },
    "kernelspec": {
      "name": "python3",
      "display_name": "Python 3"
    },
    "language_info": {
      "name": "python"
    }
  },
  "cells": [
    {
      "cell_type": "markdown",
      "metadata": {
        "id": "view-in-github",
        "colab_type": "text"
      },
      "source": [
        "<a href=\"https://colab.research.google.com/github/mynska/podstawy_programowania_mynska/blob/Python/Python_Data_Types_Dictionary.ipynb\" target=\"_parent\"><img src=\"https://colab.research.google.com/assets/colab-badge.svg\" alt=\"Open In Colab\"/></a>"
      ]
    },
    {
      "cell_type": "markdown",
      "source": [
        "# Python Data Types: Dictionary"
      ],
      "metadata": {
        "id": "6_LJdUyCxjRU"
      }
    },
    {
      "cell_type": "code",
      "source": [
        "\"\"\"\n",
        "Write a Python script to add a key to a dictionary.\n",
        "Sample Dictionary : {0: 10, 1: 20}\n",
        "Expected Result : {0: 10, 1: 20, 2: 30}\n",
        "\"\"\"\n",
        "# Tworzymy przykładowy słownik.\n",
        "dicton = {0: 11, 1: 12}\n",
        "# Aktualizujemy nasz słownik.\n",
        "dicton.update({2: 13})\n",
        "print(dicton)"
      ],
      "metadata": {
        "colab": {
          "base_uri": "https://localhost:8080/"
        },
        "id": "mLa920Knxnxq",
        "outputId": "482b96c5-1851-429c-e1a6-5c430ff6d059"
      },
      "execution_count": 1,
      "outputs": [
        {
          "output_type": "stream",
          "name": "stdout",
          "text": [
            "{0: 11, 1: 12, 2: 13}\n"
          ]
        }
      ]
    },
    {
      "cell_type": "code",
      "source": [
        "\"\"\"\n",
        "Write a Python script to concatenate the following dictionaries to create a new one.\n",
        "Sample Dictionary:\n",
        "dic1={1:10, 2:20}\n",
        "dic2={3:30, 4:40}\n",
        "dic3={5:50,6:60}\n",
        "Expected Result: {1: 10, 2: 20, 3: 30, 4: 40, 5: 50, 6: 60}\n",
        "\"\"\"\n",
        "# Tworzymy przykładowe słowniki.\n",
        "dictonOfNumbers1 = {1: 11, 2: 12}\n",
        "dictonOfNumbers2 = {3: 13, 4: 14}\n",
        "dictonOfNumbers3 = {5: 15, 6: 16}\n",
        "# Tworzymy pusty słownik.\n",
        "dictonOfNumbers = {}\n",
        "\"\"\"\n",
        "Każdy element ze słowników dodajemy do nowego, pustego słownika.\n",
        "Aktualizujemy nowy słownik o każdy element z pozostałych słowników.\n",
        "\"\"\"\n",
        "for i in (dictonOfNumbers1, dictonOfNumbers2, dictonOfNumbers3):\n",
        "    dictonOfNumbers.update(i)\n",
        "print(dictonOfNumbers)"
      ],
      "metadata": {
        "colab": {
          "base_uri": "https://localhost:8080/"
        },
        "id": "x58dQ4a8yZuO",
        "outputId": "d06c575f-0a6e-4886-adc1-b3197accf1cb"
      },
      "execution_count": 3,
      "outputs": [
        {
          "output_type": "stream",
          "name": "stdout",
          "text": [
            "{1: 11, 2: 12, 3: 13, 4: 14, 5: 15, 6: 16}\n"
          ]
        }
      ]
    },
    {
      "cell_type": "code",
      "source": [
        "\"\"\"\n",
        "Write a Python script to check whether a given key already exists in a dictionary.\n",
        "\"\"\"\n",
        "# Tworzymy przykładowy słownik.\n",
        "dicton = {0: 11, 1: 12, 3: 13, 4: 14, 5: 15}\n",
        "# Tworzymy funkcję przyjmującą warunek key.\n",
        "def keyPresent(key):\n",
        "    \"\"\"\n",
        "    Jeżeli key jest w naszych słownikach to wyświetlamy odpowiednią wiadomość,\n",
        "    jeżeli go nie ma to wyświetlamy, że go nie ma.\n",
        "    \"\"\"\n",
        "    if key in dicton:\n",
        "        print('Key is present in the dictionary')\n",
        "    else:\n",
        "        print('Key is not present in the dictionary')\n",
        "keyPresent(1)\n",
        "keyPresent(6)"
      ],
      "metadata": {
        "colab": {
          "base_uri": "https://localhost:8080/"
        },
        "id": "5KHY8Y6VzUHC",
        "outputId": "0124496e-5502-4d6c-af29-d87d62a4bfef"
      },
      "execution_count": 5,
      "outputs": [
        {
          "output_type": "stream",
          "name": "stdout",
          "text": [
            "Key is present in the dictionary\n",
            "Key is not present in the dictionary\n"
          ]
        }
      ]
    },
    {
      "cell_type": "code",
      "source": [
        "\"\"\"\n",
        "Write a Python program to iterate over dictionaries using for loops.\n",
        "\"\"\"\n",
        "# Tworzymy przykładowy słownik.\n",
        "dicton = {0: 11, 1: 12, 3: 13, 4: 14, 5: 15}\n",
        "# Dla każdego klucza i jego wartości w słowniku diction, wyświetl ten klucz i jego wartość.\n",
        "for dict_key, dict_value in dicton.items():\n",
        "    print(dict_key, '-', dict_value)"
      ],
      "metadata": {
        "colab": {
          "base_uri": "https://localhost:8080/"
        },
        "id": "qhqmeN_f0Pd7",
        "outputId": "76d3cd54-13a2-4b92-fcb8-5eec1dfdb337"
      },
      "execution_count": 6,
      "outputs": [
        {
          "output_type": "stream",
          "name": "stdout",
          "text": [
            "0 - 11\n",
            "1 - 12\n",
            "3 - 13\n",
            "4 - 14\n",
            "5 - 15\n"
          ]
        }
      ]
    },
    {
      "cell_type": "code",
      "source": [
        "\"\"\"\n",
        "Write a Python script to generate and print a dictionary that contains a number (between 1 and n) in the form (x, x*x).\n",
        "Sample Dictionary ( n = 5) :\n",
        "Expected Output : {1: 1, 2: 4, 3: 9, 4: 16, 5: 25}\n",
        "\"\"\"\n",
        "# Proszimy użytkownika o podanie wielkości słownika.\n",
        "rangeOfDiction = int(input(\"Podaj zakres słownika: \"))\n",
        "# Tworzymy pusty słownik do zbierania w nim naszych wyników.\n",
        "diciotn = dict()\n",
        "# Z każdym kolejnym kluczem w słowniku przypisujemy mu wartość będącą jego potęgą kwadratową.\n",
        "for i in range(1, rangeOfDiction + 1):\n",
        "    diciotn[i] = i * i\n",
        "print(diciotn)"
      ],
      "metadata": {
        "colab": {
          "base_uri": "https://localhost:8080/"
        },
        "id": "H-WbaCud05KO",
        "outputId": "a7a06d0e-d0dd-486f-9b15-7a5d297c8cf6"
      },
      "execution_count": 7,
      "outputs": [
        {
          "output_type": "stream",
          "name": "stdout",
          "text": [
            "Podaj zakres słownika: 5\n",
            "{1: 1, 2: 4, 3: 9, 4: 16, 5: 25}\n"
          ]
        }
      ]
    },
    {
      "cell_type": "code",
      "source": [
        "\"\"\"\n",
        "Write a Python script to print a dictionary where the keys are numbers\n",
        "between 1 and 15 (both included) and the values are the square of the keys.\n",
        "Sample Dictionary\n",
        "{1: 1, 2: 4, 3: 9, 4: 16, 5: 25, 6: 36, 7: 49, 8: 64, 9: 81, 10: 100, 11: 121, 12: 144, 13: 169, 14: 196, 15: 225}\n",
        "\"\"\"\n",
        "# Tworzymy pusty słownik do zbierania w nim naszych wyników.\n",
        "diciotn = dict()\n",
        "# Dla każdego klucza w słowniku jego wartość przyjmuje potęgę kwadratową teog klucza.\n",
        "for i in range(1, 16):\n",
        "    diciotn[i] = i ** 2\n",
        "print(diciotn)"
      ],
      "metadata": {
        "colab": {
          "base_uri": "https://localhost:8080/"
        },
        "id": "N5h96Zgq2I-Z",
        "outputId": "4e950eb7-1bd6-47ab-98e9-9a27a9648a49"
      },
      "execution_count": 8,
      "outputs": [
        {
          "output_type": "stream",
          "name": "stdout",
          "text": [
            "{1: 1, 2: 4, 3: 9, 4: 16, 5: 25, 6: 36, 7: 49, 8: 64, 9: 81, 10: 100, 11: 121, 12: 144, 13: 169, 14: 196, 15: 225}\n"
          ]
        }
      ]
    },
    {
      "cell_type": "code",
      "source": [
        "\"\"\"\n",
        "Write a Python script to merge two Python dictionaries.\n",
        "\"\"\"\n",
        "# Tworzymy przykładowe słowniki.\n",
        "dictonOfNumbers1 = {1: 11, 2: 12}\n",
        "dictonOfNumbers2 = {3: 13, 4: 14}\n",
        "# Tworzymy nowy słownik, który jest kopią pierwszego.\n",
        "dictonOfNumbers = dictonOfNumbers1.copy()\n",
        "# Aktualizujemy słownik dictonOfNumbers dodając do niego klucze dictonOfNumbers2.\n",
        "dictonOfNumbers.update(dictonOfNumbers2)\n",
        "print(dictonOfNumbers)"
      ],
      "metadata": {
        "colab": {
          "base_uri": "https://localhost:8080/"
        },
        "id": "OouC8cg22o8n",
        "outputId": "300f5863-d580-4b49-9d46-ac0c0bfb370a"
      },
      "execution_count": 9,
      "outputs": [
        {
          "output_type": "stream",
          "name": "stdout",
          "text": [
            "{1: 11, 2: 12, 3: 13, 4: 14}\n"
          ]
        }
      ]
    },
    {
      "cell_type": "code",
      "source": [
        "\"\"\"\n",
        "Write a Python program to sum all the items in a dictionary.\n",
        "\"\"\"\n",
        "# Tworzymy przykładowy słownik.\n",
        "dicton = {0: 11, 1: 12, 3: 13, 4: 14, 5: 15}\n",
        "# Tworzymy zmienną, która przedstawi sumę wartości z naszego słownika.\n",
        "result = sum(dicton.values())\n",
        "print(result)"
      ],
      "metadata": {
        "colab": {
          "base_uri": "https://localhost:8080/"
        },
        "id": "MfM5FvPy3VM1",
        "outputId": "097a6b27-ccf4-4370-c2ba-96b584844152"
      },
      "execution_count": 10,
      "outputs": [
        {
          "output_type": "stream",
          "name": "stdout",
          "text": [
            "65\n"
          ]
        }
      ]
    },
    {
      "cell_type": "code",
      "source": [
        "\"\"\"\n",
        "Write a Python program to multiply all the items in a dictionary.\n",
        "\"\"\"\n",
        "# Tworzymy przykładowy słownik.\n",
        "dicton = {0: 11, 1: 12, 3: 13, 4: 14, 5: 15}\n",
        "\"\"\"\n",
        "Tworzymy zmienną, która przedstawi sumę wartości z naszego słownika.\n",
        "Ustawiamy wstępną wartość 1, ponieważ przy ustawieniu 0 wynik mnożenia byłby 0.\n",
        "\"\"\"\n",
        "result = 1\n",
        "for i in dicton:\n",
        "    result = result * dicton[i]\n",
        "print(result)"
      ],
      "metadata": {
        "colab": {
          "base_uri": "https://localhost:8080/"
        },
        "id": "sJcOINio3u2w",
        "outputId": "9140cfea-9d44-4c10-e5e1-39a7d2715a2f"
      },
      "execution_count": 11,
      "outputs": [
        {
          "output_type": "stream",
          "name": "stdout",
          "text": [
            "360360\n"
          ]
        }
      ]
    },
    {
      "cell_type": "code",
      "source": [
        "\"\"\"\n",
        "Write a Python program to remove a key from a dictionary.\n",
        "\"\"\"\n",
        "# Tworzymy przykładowy słownik.\n",
        "dicton = {0: 11, 1: 12, 3: 13, 4: 14, 5: 15}\n",
        "# Jeżeli klucz 3 jest w moim słowniku to go usuwam.\n",
        "if 3 in dicton:\n",
        "    del dicton[3]\n",
        "print(dicton)"
      ],
      "metadata": {
        "colab": {
          "base_uri": "https://localhost:8080/"
        },
        "id": "9u_EOhyW4OBr",
        "outputId": "8b90c4e5-9824-4928-d64e-6d5816ee1167"
      },
      "execution_count": 12,
      "outputs": [
        {
          "output_type": "stream",
          "name": "stdout",
          "text": [
            "{0: 11, 1: 12, 4: 14, 5: 15}\n"
          ]
        }
      ]
    },
    {
      "cell_type": "code",
      "source": [
        "\"\"\"\n",
        "Write a Python program to map two lists into a dictionary.\n",
        "\"\"\"\n",
        "# Tworzymy listę przykładowych kluczy i drugą listę wartości, które będa do nich przypisane.\n",
        "listOfKeys = [1, 2, 3]\n",
        "listOfValues = ['Magda', 'Iza', 'Ola']\n",
        "# Tworzymy słownik łączący elementy z list kluczy i wartości.\n",
        "diction = dict(zip(listOfKeys, listOfValues))\n",
        "print(diction)"
      ],
      "metadata": {
        "colab": {
          "base_uri": "https://localhost:8080/"
        },
        "id": "UN0quIUr4tmY",
        "outputId": "155ffbf2-2578-44b7-a839-6f33c49b78b3"
      },
      "execution_count": 13,
      "outputs": [
        {
          "output_type": "stream",
          "name": "stdout",
          "text": [
            "{1: 'Magda', 2: 'Iza', 3: 'Ola'}\n"
          ]
        }
      ]
    },
    {
      "cell_type": "code",
      "source": [
        "\"\"\"\n",
        "Write a Python program to check if a dictionary is empty or not.\n",
        "\"\"\"\n",
        "# Tworzymy pusty słownik.\n",
        "emptyDiction = {}\n",
        "\"\"\"\n",
        "Sprawdzamy czy słownik jest pusty. Jeżeli jest pusty to funkcja bool zwraca False.\n",
        "Jeżeli nie jest pusty to zwraca True i wyświetlamy ten słownik.\n",
        "\"\"\"\n",
        "if not bool(emptyDiction):\n",
        "    print(\"Dictionary is empty\")\n",
        "else:\n",
        "    print(emptyDiction)"
      ],
      "metadata": {
        "colab": {
          "base_uri": "https://localhost:8080/"
        },
        "id": "XXd4Hz3q_qQm",
        "outputId": "9d149ce1-8a12-4d83-e983-43351cb885df"
      },
      "execution_count": 19,
      "outputs": [
        {
          "output_type": "stream",
          "name": "stdout",
          "text": [
            "Dictionary is empty\n"
          ]
        }
      ]
    },
    {
      "cell_type": "code",
      "source": [
        "\"\"\"\n",
        "Write a Python program to combine two dictionary by adding values for common keys.\n",
        "d1 = {'a': 100, 'b': 200, 'c':300}\n",
        "d2 = {'a': 300, 'b': 200, 'd':400}\n",
        "Sample output: Counter({'a': 400, 'b': 400, 'd': 400, 'c': 300})\n",
        "\"\"\"\n",
        "# Importujemy klasę Counter z biblioteki collections\n",
        "from collections import Counter\n",
        "# Tworzymy dwa słowniki z przynajmniej częściowo takimi samymi kluczami.\n",
        "dictonOfNumbers1 = {1: 11, 2: 12}\n",
        "dictonOfNumbers2 = {2: 13, 4: 14}\n",
        "\"\"\"\n",
        "# Używamy klasy Counter, aby stworzyć nowa listę.\n",
        "Klasa ta zlicza wszystkie klucze i jakiś występuje kilka razy to dodaje jego wartości.\n",
        "\"\"\"\n",
        "dictonOfNumbers = Counter(dictonOfNumbers1) + Counter(dictonOfNumbers2)\n",
        "print(dictonOfNumbers)"
      ],
      "metadata": {
        "colab": {
          "base_uri": "https://localhost:8080/"
        },
        "id": "Sjq5kLOJA_s9",
        "outputId": "59370d47-a835-43de-d3d7-561fc152e150"
      },
      "execution_count": 21,
      "outputs": [
        {
          "output_type": "stream",
          "name": "stdout",
          "text": [
            "Counter({2: 25, 4: 14, 1: 11})\n"
          ]
        }
      ]
    },
    {
      "cell_type": "code",
      "source": [
        "\"\"\"\n",
        "Write a Python program to count the values associated with a key in a dictionary.\n",
        "Expected Output:\n",
        "6\n",
        "2\n",
        "\"\"\"\n",
        "# Tworzymy listę z dwoma lub więcej słownikami o takich samych kluczach.\n",
        "listOfDicitons = [{1: 11, 2: 12}, {1: 13, 2: 14}]\n",
        "# Sumujemy wartości z obu słowników w liście dla wybranego klucza.\n",
        "print(sum(i[1] for i in listOfDicitons))"
      ],
      "metadata": {
        "colab": {
          "base_uri": "https://localhost:8080/"
        },
        "id": "NKPmHVrXCWiI",
        "outputId": "1c502c82-f114-4902-b2bb-ea564f5e0593"
      },
      "execution_count": 22,
      "outputs": [
        {
          "output_type": "stream",
          "name": "stdout",
          "text": [
            "24\n"
          ]
        }
      ]
    },
    {
      "cell_type": "code",
      "source": [
        "\"\"\"\n",
        "Write a Python program to drop empty items from a given dictionary.\n",
        "Original Dictionary:\n",
        "{'c1': 'Red', 'c2': 'Green', 'c3': None}\n",
        "New Dictionary after dropping empty items:\n",
        "{'c1': 'Red', 'c2': 'Green'}\n",
        "\"\"\"\n",
        "# Tworzymy przykładowy słownik.\n",
        "dicton = {0: 11, 1: 12, 3: 13, 4: 14, 5: None}\n",
        "# Aktualizujemy nasz słownik usuwając z niego klucze o wartości None.\n",
        "dicton = {key: value for (key, value) in dicton.items() if value is not None}\n",
        "print(dicton)"
      ],
      "metadata": {
        "colab": {
          "base_uri": "https://localhost:8080/"
        },
        "id": "Ex-9_WoIHoCF",
        "outputId": "17f01613-7c8d-4512-b9b8-8c36bef91a40"
      },
      "execution_count": 30,
      "outputs": [
        {
          "output_type": "stream",
          "name": "stdout",
          "text": [
            "{0: 11, 1: 12, 3: 13, 4: 14}\n"
          ]
        }
      ]
    },
    {
      "cell_type": "code",
      "source": [
        "\"\"\"\n",
        "Write a Python program to filter a dictionary based on values.\n",
        "Original Dictionary:\n",
        "{'Cierra Vega': 175, 'Alden Cantrell': 180, 'Kierra Gentry': 165, 'Pierre Cox': 190}\n",
        "Marks greater than 170:\n",
        "{'Cierra Vega': 175, 'Alden Cantrell': 180, 'Pierre Cox': 190}\n",
        "\"\"\"\n",
        "# Tworzymy przykładowy słownik.\n",
        "dicton = {0: 11, 1: 12, 3: 13, 4: 14, 5: 15}\n",
        "# Usuwamy ze słownika klucze, jeżeli ich wartości są większe od 12.\n",
        "newDiction = {key: value for (key, value) in dicton.items() if value <= 12}\n",
        "print(newDiction)"
      ],
      "metadata": {
        "colab": {
          "base_uri": "https://localhost:8080/"
        },
        "id": "rumGT73mII84",
        "outputId": "ac0fa304-ee86-4b28-fcfe-607cf2130fe5"
      },
      "execution_count": 36,
      "outputs": [
        {
          "output_type": "stream",
          "name": "stdout",
          "text": [
            "{0: 11, 1: 12}\n"
          ]
        }
      ]
    },
    {
      "cell_type": "code",
      "source": [
        "\"\"\"\n",
        "5. Write a Python program to verify that all values in a dictionary are the same.\n",
        "Original Dictionary:\n",
        "{'Cierra Vega': 12, 'Alden Cantrell': 12, 'Kierra Gentry': 12, 'Pierre Cox': 12}\n",
        "Check all are 12 in the dictionary.\n",
        "True\n",
        "Check all are 10 in the dictionary.\n",
        "False\n",
        "\"\"\"\n",
        "# Tworzymy funkcję przyjmującą za argumenty listę i wartość, która będzie sprawdzana.\n",
        "def valueCheck(myList, x):\n",
        "    # Jeżeli wartość każdego klucza z listy będzie taka sama to zwracamy True.\n",
        "    result = all(i == x for i in myList.values())\n",
        "    return result\n",
        "# Tworzymy listę:\n",
        "dicton = {0: 10, 1: 10, 3: 10, 4: 10, 5: 10}\n",
        "print(valueCheck(dicton, 10))\n",
        "dicton = {0: 10, 1: 10, 3: 10, 4: 10, 5: 11}\n",
        "print(valueCheck(dicton, 10))"
      ],
      "metadata": {
        "colab": {
          "base_uri": "https://localhost:8080/"
        },
        "id": "a7y-Ch2HJLkd",
        "outputId": "c04b02e5-9914-44d3-f5af-9d4795a7e8b1"
      },
      "execution_count": 38,
      "outputs": [
        {
          "output_type": "stream",
          "name": "stdout",
          "text": [
            "True\n",
            "False\n"
          ]
        }
      ]
    },
    {
      "cell_type": "code",
      "source": [
        "\"\"\"\n",
        "A Python dictionary contains List as a value. Write a Python program to clear the list values in the said dictionary.\n",
        "Original Dictionary:\n",
        "{'C1': [10, 20, 30], 'C2': [20, 30, 40], 'C3': [12, 34]}\n",
        "Clear the list values in the said dictionary:\n",
        "{'C1': [], 'C2': [], 'C3': []}\n",
        "\"\"\"\n",
        "# Tworzymy funkcję.\n",
        "def removeList(dictionary):\n",
        "    # Iterate through the keys in the 'dictionary' and use the 'clear' method to empty the lists.\n",
        "    for i in dictionary:\n",
        "        dictionary[i].clear()\n",
        "    return dictionary\n",
        "# Tworzymy słownik z listami.\n",
        "dicton = {1: [10, 20, 30], 2: [40, 50, 60]}\n",
        "print(removeList(dicton))"
      ],
      "metadata": {
        "colab": {
          "base_uri": "https://localhost:8080/"
        },
        "id": "AA0aFdV-KpX9",
        "outputId": "ea9e75a0-2674-405d-f679-30a869e9e2d4"
      },
      "execution_count": 41,
      "outputs": [
        {
          "output_type": "stream",
          "name": "stdout",
          "text": [
            "{1: [], 2: []}\n"
          ]
        }
      ]
    },
    {
      "cell_type": "code",
      "source": [
        "\"\"\"\n",
        "Write a Python program to invert a dictionary with unique hashable values.\n",
        "Sample Output:\n",
        "{10: 'Theodore', 11: 'Mathew', 9: 'Roxanne'}\n",
        "\"\"\"\n",
        "# Tworzymy funkcję.\n",
        "def invertDiction(dictionary):\n",
        "    # Zwracamy listę, która zamienia klucze z wartościami.\n",
        "    return {value: key for key, value in dictionary.items()}\n",
        "# Tworzymy przykładowy słownik.\n",
        "dicton = {0: 11, 1: 12, 3: 13, 4: 14, 5: 15}\n",
        "print(invertDiction(dicton))"
      ],
      "metadata": {
        "colab": {
          "base_uri": "https://localhost:8080/"
        },
        "id": "zrZeIZCHMHQN",
        "outputId": "d005b2a5-066e-4e3e-ced9-ed0d1462e7a1"
      },
      "execution_count": 42,
      "outputs": [
        {
          "output_type": "stream",
          "name": "stdout",
          "text": [
            "{11: 0, 12: 1, 13: 3, 14: 4, 15: 5}\n"
          ]
        }
      ]
    },
    {
      "cell_type": "code",
      "source": [
        "\"\"\"\n",
        "Write a Python program to find all keys in a dictionary that have the given value.\n",
        "Sample Output:\n",
        "Original dictionary elements:\n",
        "{'Theodore': 19, 'Roxanne': 20, 'Mathew': 21, 'Betty': 20}\n",
        "Find all keys in the said dictionary that have the specified value:\n",
        "['Roxanne', 'Betty']\n",
        "\"\"\"\n",
        "# Tworzymy funkcję, która przyjmuje dwa argumenty - słownik i szukaną wartość.\n",
        "def findValueInDiction(someDiction, val):\n",
        "    # Zwracamy listę kluczy ze słownika, których wartość była równa z podaną.\n",
        "    return list(key for key, value in someDiction.items() if value == val)\n",
        "# Tworzymy przykładową listę.\n",
        "dicton = {0: 11, 1: 12, 3: 12, 4: 14, 5: 15}\n",
        "print(findValueInDiction(dicton, 12))"
      ],
      "metadata": {
        "colab": {
          "base_uri": "https://localhost:8080/"
        },
        "id": "2rH5JougMyN6",
        "outputId": "0ad94d1d-7055-4362-b11d-a7aaf6e663e6"
      },
      "execution_count": 45,
      "outputs": [
        {
          "output_type": "stream",
          "name": "stdout",
          "text": [
            "[1, 3]\n"
          ]
        }
      ]
    }
  ]
}