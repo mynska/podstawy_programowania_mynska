{
  "nbformat": 4,
  "nbformat_minor": 0,
  "metadata": {
    "colab": {
      "provenance": [],
      "authorship_tag": "ABX9TyO7HhulOoNwBbZlCqdp6iet",
      "include_colab_link": true
    },
    "kernelspec": {
      "name": "python3",
      "display_name": "Python 3"
    },
    "language_info": {
      "name": "python"
    }
  },
  "cells": [
    {
      "cell_type": "markdown",
      "metadata": {
        "id": "view-in-github",
        "colab_type": "text"
      },
      "source": [
        "<a href=\"https://colab.research.google.com/github/mynska/podstawy_programowania_mynska/blob/Python/Python_Data_Type_List.ipynb\" target=\"_parent\"><img src=\"https://colab.research.google.com/assets/colab-badge.svg\" alt=\"Open In Colab\"/></a>"
      ]
    },
    {
      "cell_type": "markdown",
      "source": [
        "# Python Data Type: List"
      ],
      "metadata": {
        "id": "y8WmcycgqUSs"
      }
    },
    {
      "cell_type": "code",
      "source": [
        "\"\"\"\n",
        "Write a Python program to sum all the items in a list.\n",
        "\"\"\"\n",
        "# Tworzymy funkcję przyjmującą jako argument items.\n",
        "def sumOfList(items):\n",
        "    # Definiujemy zmienną reprezentującą sumę elementów z listy.\n",
        "    sumNumbers = 0\n",
        "    # Do sumNumbers dodajemy wartość każdego elementu z listy.\n",
        "    for i in items:\n",
        "        sumNumbers += i\n",
        "    # Zwracamy ostateczną wartość sumNumbers.\n",
        "    return sumNumbers\n",
        "print(sumOfList([1, 2, 3, -1, -2, 4]))"
      ],
      "metadata": {
        "colab": {
          "base_uri": "https://localhost:8080/"
        },
        "id": "kGeRXs5xqbC7",
        "outputId": "60c0563e-1786-4904-8983-c60cf8c3afa9"
      },
      "execution_count": null,
      "outputs": [
        {
          "output_type": "stream",
          "name": "stdout",
          "text": [
            "7\n"
          ]
        }
      ]
    },
    {
      "cell_type": "code",
      "source": [
        "\"\"\"\n",
        "Write a Python program to multiply all the items in a list.\n",
        "\"\"\"\n",
        "# Tworzymy funkcję przyjmującą jako argument items.\n",
        "def multiplyOfList(items):\n",
        "    \"\"\"\n",
        "    Definiujemy zmienną reprezentującą wynik mnożenia elementów z listy.\n",
        "    Nie może być 0, bo ostateczny wynik również wyniósłby 0.\n",
        "    \"\"\"\n",
        "    multiplyNumbers = 1\n",
        "    # Mnożymy każdy kolejny element z listy przez wynik mnożenia poprzednich elementów.\n",
        "    for i in items:\n",
        "        multiplyNumbers *= i\n",
        "    return multiplyNumbers\n",
        "print(multiplyOfList([1, 2, 3, -1, -2, 4]))"
      ],
      "metadata": {
        "colab": {
          "base_uri": "https://localhost:8080/"
        },
        "id": "wMWwHr5rye3N",
        "outputId": "294efdb4-94da-405a-a703-88e662a3e813"
      },
      "execution_count": null,
      "outputs": [
        {
          "output_type": "stream",
          "name": "stdout",
          "text": [
            "48\n"
          ]
        }
      ]
    },
    {
      "cell_type": "code",
      "source": [
        "\"\"\"\n",
        "Write a Python program to get the largest number from a list.\n",
        "\"\"\"\n",
        "# Tworzymy funkcję przyjmującą jako argument list.\n",
        "def maxNumInList(list):\n",
        "    # Definiujemy zmienną przyjmującą jako początkową wartość pierwszy element z listy.\n",
        "    max = list[0]\n",
        "    \"\"\"\n",
        "    Jeżeli każdy kolejny element z listy jest większy od poprzedniego,\n",
        "    to wartość zmiennej max zmieniamy na ten element.\n",
        "    \"\"\"\n",
        "    for i in list:\n",
        "        if i > max:\n",
        "            max = i\n",
        "    # Zwracamy ostateczną wersję zmiannej max.\n",
        "    return max\n",
        "print(maxNumInList([1, 2, 3, -1, -2, 4]))"
      ],
      "metadata": {
        "colab": {
          "base_uri": "https://localhost:8080/"
        },
        "id": "5VtIqEk6zrjb",
        "outputId": "fada2b0b-5884-481a-a0cf-9d956d28d6ab"
      },
      "execution_count": null,
      "outputs": [
        {
          "output_type": "stream",
          "name": "stdout",
          "text": [
            "4\n"
          ]
        }
      ]
    },
    {
      "cell_type": "code",
      "source": [
        "\"\"\"\n",
        "Write a Python program to get the smallest number from a list.\n",
        "\"\"\"\n",
        "# Tworzymy funkcję przyjmującą jako argument list.\n",
        "def minNumInList(list):\n",
        "    # Definiujemy zmienną przyjmującą jako początkową wartość pierwszy element z listy.\n",
        "    min = list[0]\n",
        "    \"\"\"\n",
        "    Jeżeli każdy kolejny element z listy jest mniejszy od poprzedniego,\n",
        "    to wartość zmiennej min zmieniamy na ten element.\n",
        "    \"\"\"\n",
        "    for i in list:\n",
        "        if i < min:\n",
        "            min = i\n",
        "    # Zwracamy ostateczną wersję zmiannej max.\n",
        "    return min\n",
        "print(minNumInList([1, 2, 3, -1, -2, 4]))"
      ],
      "metadata": {
        "colab": {
          "base_uri": "https://localhost:8080/"
        },
        "id": "kKsjmZOw0ii8",
        "outputId": "081a8627-f21e-4f14-c703-f6dd5090c363"
      },
      "execution_count": null,
      "outputs": [
        {
          "output_type": "stream",
          "name": "stdout",
          "text": [
            "-2\n"
          ]
        }
      ]
    },
    {
      "cell_type": "code",
      "source": [
        "\"\"\"\n",
        "Write a Python program to count the number of strings from a given list of strings.\n",
        "The string length is 2 or more and the first and last characters are the same.\n",
        "Sample List : ['abc', 'xyz', 'aba', '1221']\n",
        "Expected Result : 2\n",
        "\"\"\"\n",
        "# Tworzymy funkcję przyjmującą jako argument stringList.\n",
        "def countSpecialStringFromList(stringList):\n",
        "    # Definiujemy zmienną pokazującą sumę wybranych wyrazów.\n",
        "    specialString = 0\n",
        "    \"\"\"\n",
        "    Dla słowa w liście, jeżeli jego długość jest większa od 1 i ostatni\n",
        "    i pierwszy znak tego słowa są takie same, to do zmiennej specialString dodajemy 1.\n",
        "    \"\"\"\n",
        "    for word in stringList:\n",
        "        if len(word) > 1 and word[0] == word[-1]:\n",
        "            specialString += 1\n",
        "    return specialString\n",
        "print(countSpecialStringFromList(['abc', 'fef', 'ghi', '3443']))"
      ],
      "metadata": {
        "colab": {
          "base_uri": "https://localhost:8080/"
        },
        "id": "U58D11ne03hW",
        "outputId": "032ec494-bc36-449e-d56c-ecdb8843f4e2"
      },
      "execution_count": null,
      "outputs": [
        {
          "output_type": "stream",
          "name": "stdout",
          "text": [
            "2\n"
          ]
        }
      ]
    },
    {
      "cell_type": "code",
      "source": [
        "\"\"\"\n",
        "Write a Python program to remove duplicates from a list.\n",
        "\"\"\"\n",
        "# Definiujemy jakąś dowolną listę.\n",
        "listOfTenElements = [20, 30, 10, 20, 10, 50, 60, 40, 60, 50]\n",
        "\"\"\"\n",
        "Tworzymy zbiór na zduplikowane elementy oraz nową listę,\n",
        "w której będą elementy bez zduplikowanych.\n",
        "\"\"\"\n",
        "dupItems = set()\n",
        "uniqItems = []\n",
        "\"\"\"\n",
        "Dla każdego elementu w liście listOfTenElements, jeżeli dany element\n",
        "nie jest w zbiorze dupItems, to dodajemy go do zbioru dupItems\n",
        "oraz do nowej listy uniqItems.\n",
        "\"\"\"\n",
        "for i in listOfTenElements:\n",
        "    if i not in dupItems:\n",
        "        uniqItems.append(i)\n",
        "        dupItems.add(i)\n",
        "print(dupItems)"
      ],
      "metadata": {
        "colab": {
          "base_uri": "https://localhost:8080/"
        },
        "id": "gKJHFjbQ20zf",
        "outputId": "470af827-62e6-41fc-ae49-e670f48a97b4"
      },
      "execution_count": null,
      "outputs": [
        {
          "output_type": "stream",
          "name": "stdout",
          "text": [
            "{40, 10, 50, 20, 60, 30}\n"
          ]
        }
      ]
    },
    {
      "cell_type": "code",
      "source": [
        "\"\"\"\n",
        "Write a Python program to check if a list is empty or not.\n",
        "\"\"\"\n",
        "# Tworzymy dowolną listę. Dla przykładu lista będzie pusta.\n",
        "emptyList = []\n",
        "\"\"\"\n",
        "Jeżeli lista jest pusta, wyświetlamt komunikat: \"List is empty.\",\n",
        "w przeciwnym razie wyświetlamy listę.\n",
        "\"\"\"\n",
        "if not emptyList:\n",
        "    print(\"List is empty.\")\n",
        "else:\n",
        "    print(emptyList)"
      ],
      "metadata": {
        "colab": {
          "base_uri": "https://localhost:8080/"
        },
        "id": "J16ZbLo99TVW",
        "outputId": "34f90aeb-6318-477a-8cc0-8add81fdb12f"
      },
      "execution_count": null,
      "outputs": [
        {
          "output_type": "stream",
          "name": "stdout",
          "text": [
            "List is empty.\n"
          ]
        }
      ]
    },
    {
      "cell_type": "code",
      "source": [
        "\"\"\"\n",
        "Write a Python program to clone or copy a list.\n",
        "\"\"\"\n",
        "# Tworzymy dowolną listę.\n",
        "listOfFiveElements = [11, 22, 33, 44, 55]\n",
        "# Tworzymy nową listę z elementów listy listOfFiveElements.\n",
        "newListOfFiveElements = list(listOfFiveElements)\n",
        "# Wyświetlamy obie listy po sobie.\n",
        "print(listOfFiveElements)\n",
        "print(newListOfFiveElements)"
      ],
      "metadata": {
        "colab": {
          "base_uri": "https://localhost:8080/"
        },
        "id": "koGD42-T-ShM",
        "outputId": "7f4bde0e-d77e-48f3-f2b4-f3348eac35b7"
      },
      "execution_count": null,
      "outputs": [
        {
          "output_type": "stream",
          "name": "stdout",
          "text": [
            "[11, 22, 33, 44, 55]\n",
            "[11, 22, 33, 44, 55]\n"
          ]
        }
      ]
    },
    {
      "cell_type": "code",
      "source": [
        "\"\"\"\n",
        "Write a Python program to convert a list of characters into a string.\n",
        "\"\"\"\n",
        "# Tworzymy dowolną listę znaków.\n",
        "listOfFiveChars = ['M', 'a', 'g', 'd', 'a']\n",
        "# Używamy metody join, żeby ze znaków z listy stworzyć jeden string.\n",
        "stringFromListOfFiveChars = ''.join(listOfFiveChars)\n",
        "print(stringFromListOfFiveChars)"
      ],
      "metadata": {
        "colab": {
          "base_uri": "https://localhost:8080/"
        },
        "id": "_KyA6Ppz_APb",
        "outputId": "6fa501b3-c2ca-45ff-d0c6-4750f6eecf5d"
      },
      "execution_count": null,
      "outputs": [
        {
          "output_type": "stream",
          "name": "stdout",
          "text": [
            "Magda\n"
          ]
        }
      ]
    },
    {
      "cell_type": "code",
      "source": [
        "\"\"\"\n",
        "Write a Python program to append a list to the second list.\n",
        "\"\"\"\n",
        "# Definiujemy dowolna listę.\n",
        "listOfFiveNumbers = [1, 2, 3, 4, 5]\n",
        "# Definiujemy drugą dowolna listę.\n",
        "listOfFiveChars = ['M', 'a', 'g', 'd', 'a']\n",
        "# Dodajemy do siebie obie listy.\n",
        "finalList = listOfFiveNumbers + listOfFiveChars\n",
        "print(finalList)"
      ],
      "metadata": {
        "colab": {
          "base_uri": "https://localhost:8080/"
        },
        "id": "ajaj7VN2AB-V",
        "outputId": "b3203f7a-15df-4475-8ca1-6fc02b03400d"
      },
      "execution_count": null,
      "outputs": [
        {
          "output_type": "stream",
          "name": "stdout",
          "text": [
            "[1, 2, 3, 4, 5, 'M', 'a', 'g', 'd', 'a']\n"
          ]
        }
      ]
    },
    {
      "cell_type": "code",
      "source": [
        "\"\"\"\n",
        "Write a Python program to select an item randomly from a list\n",
        "\"\"\"\n",
        "# Importujemy bibliotekę random.\n",
        "import random\n",
        "# Tworzymy dowolne listy.\n",
        "listOfFiveWords = ['Iza', 'Ola', 'Magda', 'Maja', 'Kasia']\n",
        "listOfFiveNumbers = [1, 2, 3, 4, 5]\n",
        "listOfFiveChars = ['M', 'a', 'g', 'd', 'a']\n",
        "# Używamy random.choice w celu wybrania randomowego elementu z wybranej listy.\n",
        "print(random.choice(listOfFiveWords))\n",
        "print(random.choice(listOfFiveNumbers))\n",
        "print(random.choice(listOfFiveChars))"
      ],
      "metadata": {
        "colab": {
          "base_uri": "https://localhost:8080/"
        },
        "id": "emQ7u3uFBMrK",
        "outputId": "2f9f4cd5-a643-4d1a-fef0-ad90badee31b"
      },
      "execution_count": null,
      "outputs": [
        {
          "output_type": "stream",
          "name": "stdout",
          "text": [
            "Iza\n",
            "5\n",
            "g\n"
          ]
        }
      ]
    },
    {
      "cell_type": "code",
      "source": [
        "\"\"\"\n",
        "Write a Python program to find common items in two lists.\n",
        "\"\"\"\n",
        "# Definiujemy dwie dowolne listy. Dla przykładu będą miały częściowo takie same elementy.\n",
        "listOfFiveWords1 = ['Iza', 'Ola', 'Magda', 'Maja', 'Kasia']\n",
        "listOfFiveWords2 = ['Marek', 'Daniel', 'Iza', 'Ola', 'Tomek']\n",
        "# Wyświetlamy zbiór elementów, które powtarzają się w obu listach.\n",
        "print(set(listOfFiveWords1) & set(listOfFiveWords2))"
      ],
      "metadata": {
        "colab": {
          "base_uri": "https://localhost:8080/"
        },
        "id": "Kh7hYBUSCK-g",
        "outputId": "2632754f-6698-4ba7-e46d-5f1be9c66df8"
      },
      "execution_count": null,
      "outputs": [
        {
          "output_type": "stream",
          "name": "stdout",
          "text": [
            "{'Ola', 'Iza'}\n"
          ]
        }
      ]
    },
    {
      "cell_type": "code",
      "source": [
        "\"\"\"\n",
        "Write a Python program to select the odd items from a list.\n",
        "\"\"\"\n",
        "# Tworzymy funkcję zwracającą nieparzyste elementy danej listy.\n",
        "def selectOddElements(someList):\n",
        "    return [item for item in someList if item % 2 != 0]\n",
        "# Tworzymy jakąś listę.\n",
        "listOfFiveNumbers = [1, 2, 3, 4, 5]\n",
        "print(selectOddElements(listOfFiveNumbers))"
      ],
      "metadata": {
        "colab": {
          "base_uri": "https://localhost:8080/"
        },
        "id": "J4mrMaOUDrCs",
        "outputId": "aee0b69a-2ce7-46e3-a341-3435b3b75195"
      },
      "execution_count": null,
      "outputs": [
        {
          "output_type": "stream",
          "name": "stdout",
          "text": [
            "[1, 3, 5]\n"
          ]
        }
      ]
    },
    {
      "cell_type": "code",
      "source": [
        "\"\"\"\n",
        "Write a Python program to remove specific words from a given list.\n",
        "Original list:\n",
        "['red', 'green', 'blue', 'white', 'black', 'orange']\n",
        "Remove words:\n",
        "['white', 'orange']\n",
        "After removing the specified words from the said list:\n",
        "['red', 'green', 'blue', 'black']\n",
        "\"\"\"\n",
        "# Tworzymy funkcję, której argumantami są dowolna lista i lista ze słowami do usunięcia.\n",
        "def removeWords(biggerList, wordsToRemove):\n",
        "    \"\"\"\n",
        "    Dla każdego słowa w liście biggerList sprawdzamy, czy  słowo to\n",
        "    istnieje w liście wordsToRemove, to usuwamy to słowo z listy biggerList.\n",
        "    Na koniec zwracamy listę biggerList.\n",
        "    \"\"\"\n",
        "    for word in list(biggerList):\n",
        "        if word in wordsToRemove:\n",
        "            biggerList.remove(word)\n",
        "    return biggerList\n",
        "# Tworzymy dwie listy dla przykładu.\n",
        "listOfFiveWords = ['Iza', 'Ola', 'Magda', 'Maja', 'Kasia']\n",
        "listOfWordsToRemove = ['Iza', 'Ola']\n",
        "print(removeWords(listOfFiveWords, listOfWordsToRemove))"
      ],
      "metadata": {
        "colab": {
          "base_uri": "https://localhost:8080/"
        },
        "id": "ZEyqSKqMGJYP",
        "outputId": "1478fa9b-8032-4f8d-88b6-59e8b380a812"
      },
      "execution_count": null,
      "outputs": [
        {
          "output_type": "stream",
          "name": "stdout",
          "text": [
            "['Magda', 'Maja', 'Kasia']\n"
          ]
        }
      ]
    },
    {
      "cell_type": "code",
      "source": [
        "\"\"\"\n",
        "Write a Python program to find the index of an item in a specified list.\n",
        "\"\"\"\n",
        "# Definiujemy dowolna listę.\n",
        "listOfFiveNumbers = [1, 2, 3, 4, 5]\n",
        "# Wyświetlamy indeks danego elementu używając metodu num.index\n",
        "print(listOfFiveNumbers.index(3))"
      ],
      "metadata": {
        "colab": {
          "base_uri": "https://localhost:8080/"
        },
        "id": "1Rs1uXsRH4dG",
        "outputId": "24c64be1-261f-401b-e864-de57cd7b79c9"
      },
      "execution_count": null,
      "outputs": [
        {
          "output_type": "stream",
          "name": "stdout",
          "text": [
            "2\n"
          ]
        }
      ]
    },
    {
      "cell_type": "code",
      "source": [
        "\"\"\"\n",
        "Write a Python program to reverse a given list of lists.\n",
        "Original list:\n",
        "[['orange', 'red'], ['green', 'blue'], ['white', 'black', 'pink']]\n",
        "Reverse said list of lists:\n",
        "[['white', 'black', 'pink'], ['green', 'blue'], ['orange', 'red']]\n",
        "Original list:\n",
        "[[1, 2, 3, 4], [0, 2, 4, 5], [2, 3, 4, 2, 4]]\n",
        "Reverse said list of lists:\n",
        "[[2, 3, 4, 2, 4], [0, 2, 4, 5], [1, 2, 3, 4]]\n",
        "\"\"\"\n",
        "# Tworzymy funkcję zwracającą nieparzyste elementy danej listy.\n",
        "def reverseListOfLists(someList):\n",
        "    # Zwracamy odwrócone elementy z listy someList (czyli inne listy).\n",
        "    return someList[::-1]\n",
        "# Tworzymy dowolną listę i wyświetlamy jej odwrotność.\n",
        "listOfNames = [['Magda', 'Iza'], ['Ola', 'Maja', 'Ania']]\n",
        "print(reverseListOfLists(listOfNames))"
      ],
      "metadata": {
        "colab": {
          "base_uri": "https://localhost:8080/"
        },
        "id": "i93PjX96Jmv5",
        "outputId": "2860e7a4-9d53-42c7-eefc-42e85aa5ca7b"
      },
      "execution_count": null,
      "outputs": [
        {
          "output_type": "stream",
          "name": "stdout",
          "text": [
            "[['Ola', 'Maja', 'Ania'], ['Magda', 'Iza']]\n"
          ]
        }
      ]
    },
    {
      "cell_type": "code",
      "source": [
        "\"\"\"\n",
        "Write a Python program to convert a list of multiple integers into a single integer.\n",
        "Sample list: [11, 33, 50]\n",
        "Expected Output: 113350\n",
        "\"\"\"\n",
        "# Tworzymy dowolną listę liczb całkowitych\n",
        "listOfFiveElements = [11, 22, 33, 44, 55]\n",
        "# Tworzymy zmienną, która z listy liczb całkowitych tworzy taką liczbę całkowitą.\n",
        "integerList = int(\"\".join(map(str, listOfFiveElements)))\n",
        "print(integerList)"
      ],
      "metadata": {
        "colab": {
          "base_uri": "https://localhost:8080/"
        },
        "id": "wgdllDFRNL9Z",
        "outputId": "00b446f6-85da-45c6-e544-60e0ee98e819"
      },
      "execution_count": null,
      "outputs": [
        {
          "output_type": "stream",
          "name": "stdout",
          "text": [
            "1122334455\n"
          ]
        }
      ]
    },
    {
      "cell_type": "code",
      "source": [
        "\"\"\"\n",
        "Write a Python program to concatenate elements of a list.\n",
        "\"\"\"\n",
        "# Tworzymy dowolną listę.\n",
        "listOfFiveWords = ['Iza', 'Ola', 'Magda', 'Maja', 'Kasia']\n",
        "# Używamy metody join, aby przed każdym elementem z listy listOfFiveWords dodać \"-\".\n",
        "print('-'.join(listOfFiveWords))\n",
        "# Używamy metody join, aby przed każdym elementem z listy listOfFiveWords dodać \"/\".\n",
        "print('/'.join(listOfFiveWords))"
      ],
      "metadata": {
        "colab": {
          "base_uri": "https://localhost:8080/"
        },
        "id": "ZQhm1KfMtdd3",
        "outputId": "78753f7a-9b5c-4528-f3ba-d194478748bb"
      },
      "execution_count": 4,
      "outputs": [
        {
          "output_type": "stream",
          "name": "stdout",
          "text": [
            "Iza-Ola-Magda-Maja-Kasia\n",
            "Iza/Ola/Magda/Maja/Kasia\n"
          ]
        }
      ]
    },
    {
      "cell_type": "code",
      "source": [
        "\"\"\"\n",
        "Write a Python program to replace the last element in a list with another list.\n",
        "Sample data : [1, 3, 5, 7, 9, 10], [2, 4, 6, 8]\n",
        "Expected Output: [1, 3, 5, 7, 9, 2, 4, 6, 8]\n",
        "\"\"\"\n",
        "# Tworzymy dwie dowolne listy liczb całkowitych.\n",
        "listOfFiveElements = [11, 22, 33, 44, 55]\n",
        "listOfFourElements = [66, 77, 88, 99]\n",
        "# Przekształcamy listę listOfFiveElements dodając od jej przedostatniego elementu nową listę.\n",
        "listOfFiveElements[-1:] = listOfFourElements\n",
        "print(listOfFiveElements)"
      ],
      "metadata": {
        "colab": {
          "base_uri": "https://localhost:8080/"
        },
        "id": "1K0O_zF7vcrk",
        "outputId": "7b34f64d-ab12-4a54-9235-bf5a2f910f00"
      },
      "execution_count": 5,
      "outputs": [
        {
          "output_type": "stream",
          "name": "stdout",
          "text": [
            "[11, 22, 33, 44, 66, 77, 88, 99]\n"
          ]
        }
      ]
    },
    {
      "cell_type": "code",
      "source": [
        "\"\"\"\n",
        "Write a Python program to extend a list without appending.\n",
        "Sample data: [10, 20, 30]\n",
        "[40, 50, 60]\n",
        "Expected output : [40, 50, 60, 10, 20, 30]\n",
        "\"\"\"\n",
        "# Tworzymy dwie dowolne listy liczb całkowitych.\n",
        "listOfFiveElements = [11, 22, 33, 44, 55]\n",
        "listOfFourElements = [66, 77, 88, 99]\n",
        "\"\"\"\n",
        "# Przekształcamy listę listOfFiveElements tak, że dodajemy do niej elementy\n",
        "z listy listOfFourElements przed pierwszym elementem z listy listOfFiveElements.\n",
        "\"\"\"\n",
        "listOfFiveElements[:0] = listOfFourElements\n",
        "print(listOfFiveElements)"
      ],
      "metadata": {
        "colab": {
          "base_uri": "https://localhost:8080/"
        },
        "id": "1OEPk1SBwAh8",
        "outputId": "dc9dbdf5-fc70-469f-b9a9-dd65d66d9f2e"
      },
      "execution_count": 6,
      "outputs": [
        {
          "output_type": "stream",
          "name": "stdout",
          "text": [
            "[66, 77, 88, 99, 11, 22, 33, 44, 55]\n"
          ]
        }
      ]
    }
  ]
}